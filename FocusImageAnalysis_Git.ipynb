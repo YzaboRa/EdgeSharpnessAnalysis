{
 "cells": [
  {
   "cell_type": "code",
   "execution_count": 5,
   "id": "ceramic-anniversary",
   "metadata": {},
   "outputs": [
    {
     "data": {
      "text/html": [
       "\n",
       "<style>\n",
       "    div#notebook-container    { width: 95%; }\n",
       "    div#menubar-container     { width: 65%; }\n",
       "    div#maintoolbar-container { width: 99%; }\n",
       "</style>\n"
      ],
      "text/plain": [
       "<IPython.core.display.HTML object>"
      ]
     },
     "metadata": {},
     "output_type": "display_data"
    }
   ],
   "source": [
    "%matplotlib widget\n",
    "from ipywidgets import *\n",
    "import numpy as np\n",
    "import matplotlib.pyplot as plt\n",
    "import matplotlib\n",
    "import matplotlib.image as IM\n",
    "from matplotlib import rc\n",
    "from matplotlib.lines import Line2D\n",
    "from skimage import color\n",
    "import cv2 as cv\n",
    "import glob\n",
    "import time\n",
    "import scipy.misc, scipy.stats\n",
    "import sys\n",
    "import csv\n",
    "import os\n",
    "import numpy.ma as ma\n",
    "from mpl_toolkits.axes_grid1 import make_axes_locatable\n",
    "from IPython.display import Image\n",
    "import matplotlib.colors as colors\n",
    "import matplotlib.patches as patches\n",
    "from PIL import Image\n",
    "from PIL import ImageOps\n",
    "from scipy.ndimage import gaussian_filter\n",
    "from tqdm.notebook import trange, tqdm, tnrange\n",
    "\n",
    "import matplotlib as mpl\n",
    "mpl.rc('font',family='Times New Roman')\n",
    "\n",
    "from IPython.display import display, HTML\n",
    "display(HTML(data=\"\"\"\n",
    "<style>\n",
    "    div#notebook-container    { width: 95%; }\n",
    "    div#menubar-container     { width: 65%; }\n",
    "    div#maintoolbar-container { width: 99%; }\n",
    "</style>\n",
    "\"\"\"))"
   ]
  },
  {
   "cell_type": "code",
   "execution_count": 125,
   "id": "coupled-bonus",
   "metadata": {},
   "outputs": [],
   "source": [
    "def FindBestk(k_distance, magnification, pixel):\n",
    "    possible_ks = [3,5,7,9,11,13,15,17,19,21]\n",
    "    ideal_k = int(np.round(k_distance/(pixel/magnification),0))\n",
    "#     print('ideal k: ', ideal_k)\n",
    "    k_diff = 21\n",
    "    for kk in possible_ks:\n",
    "        diff = np.absolute(kk - ideal_k)\n",
    "        if diff<k_diff:\n",
    "            k_best = kk\n",
    "            k_diff = diff\n",
    "    return k_best, k_diff\n",
    "\n",
    "def DecToStr(decimal):\n",
    "    decimal_str = str(decimal)\n",
    "    decimal_int, decimal_dec = decimal_str.split('.')\n",
    "    return decimal_int+'p'+decimal_dec\n",
    "\n",
    "def Sobel(im, k, N):\n",
    "    (nrows, ncols) = im.shape\n",
    "    sobelx = cv.Sobel(im,ddepth=cv.CV_64F, dx=1,dy=0,ksize=k) #cv.CV_64F\n",
    "    sobely = cv.Sobel(im,ddepth=cv.CV_64F, dx=0,dy=1,ksize=k)\n",
    "    sobel = np.zeros(im.shape)\n",
    "    if N=='self':\n",
    "        sobel = np.sqrt(sobelx**2 + sobely**2)\n",
    "        sobel = sobel/np.amax(sobel)\n",
    "    else: \n",
    "        sobel = np.sqrt(sobelx**2 + sobely**2)/N\n",
    "    return sobel\n",
    "    \n",
    "def SeparateInCells(im, cell_x, cell_y, max_used):\n",
    "    max_used = int(max_used)\n",
    "    (nrows, ncols) = im.shape\n",
    "    Nx_cell, Ny_cell = int(ncols/cell_x), int(nrows/cell_y)\n",
    "    leftout_x = ncols - int(Nx_cell*cell_x)\n",
    "    leftout_y = nrows - int(Ny_cell*cell_y)\n",
    "    if leftout_x>=0.5*cell_x:\n",
    "        Nx_cell+=1\n",
    "        leftout_x = ncols - int(Nx_cell*cell_x)\n",
    "        last_x_cell_imcomplete = True\n",
    "    else:\n",
    "        last_x_cell_imcomplete = False\n",
    "    if leftout_y>=0.75*cell_y:\n",
    "        Ny_cell+=1\n",
    "        leftout_y = nrows - int(Ny_cell*cell_y)\n",
    "        last_y_cell_imcomplete = True\n",
    "    else:\n",
    "        last_y_cell_imcomplete = False\n",
    "#     print('leftovers = ('+str(leftout_x)+', '+str(leftout_y)+')')\n",
    "    sharpness_map = np.zeros(im.shape)\n",
    "    for i in range(0,Nx_cell):\n",
    "        for j in range (0,Ny_cell):\n",
    "            if (j==(Ny_cell-1) and i==(Nx_cell-1)):\n",
    "                cell = im[(cell_y*j):,(cell_x*i):]\n",
    "            elif j==(Ny_cell-1):\n",
    "                cell = im[(cell_y*j):,(cell_x*i):(cell_x*(i+1))]\n",
    "            elif i==(Nx_cell-1):\n",
    "                cell = im[(cell_y*j):(cell_y*(j+1)),(cell_x*i):]\n",
    "            else:\n",
    "                cell = im[(cell_y*j):(cell_y*(j+1)),(cell_x*i):(cell_x*(i+1))]\n",
    "            temp_list = cell.flatten()\n",
    "            temp_list_sorted = sorted(temp_list, reverse=True)\n",
    "            if len(temp_list_sorted)>= 2*max_used:\n",
    "                max_cell = temp_list_sorted[max_used]\n",
    "            else:\n",
    "                max_cell = temp_list_sorted[int(len(temp_list_sorted)/2)]\n",
    "            for ii in range(0,len(cell[0,:])):\n",
    "                for jj in range(0,len(cell[:,0])):\n",
    "                    working_x = cell_x*i + ii\n",
    "                    working_y = cell_y*j + jj\n",
    "                    sharpness_map[working_y,working_x]=max_cell\n",
    "    return sharpness_map\n",
    "\n",
    "def GetMask(Sharpness_Map, t):\n",
    "    array1 = np.zeros(Sharpness_Map.shape)+1.0\n",
    "    Mask = np.zeros(Sharpness_Map.shape)+1.0\n",
    "    if np.amax(Sharpness_Map)>t:\n",
    "        (y_mask, x_mask) = np.where(Sharpness_Map>t)\n",
    "        for i in range(0,len(y_mask)):\n",
    "            yy = y_mask[i]\n",
    "            xx = x_mask[i]\n",
    "            Mask[yy,xx] = 0.0\n",
    "        array_masked = np.ma.array(array1, mask=Mask)\n",
    "    else:\n",
    "        array_masked = np.ma.array(array1, mask=Mask)\n",
    "    return array_masked\n",
    "\n",
    "\n",
    "def AddArtificialFeature(im, width_0_curved, start_0_curved):\n",
    "    im_withFeature = im\n",
    "    width_256_curved = width_0_curved\n",
    "    p0 = start_0_curved\n",
    "    p1 = start_0_curved+width_0_curved\n",
    "    p2 = start_0_curved+width_0_curved+width_256_curved\n",
    "    p3 = start_0_curved+width_0_curved*2+width_256_curved\n",
    "    im_withFeature[p0:p3,p0:p3] = 0.0 #np.amin(im)\n",
    "    im_withFeature[p1:p2,p1:p2] = 2.0**12 #np.amax(im)\n",
    "    return im_withFeature\n",
    "\n",
    "def RemoveArtificialFeature(sobel, width_0_curved, start_0_curved, k):\n",
    "    sobel_removed = sobel\n",
    "    width_256_curved = width_0_curved\n",
    "    p0 = start_0_curved - k\n",
    "    p3 = start_0_curved+width_0_curved*2+width_256_curved + k\n",
    "#     sobel_removed[p0:p3,p0:p3] = np.amin(sobel)\n",
    "    sobel_removed[p0:p3,p0:p3] = np.average(sobel[p3:(2*p3),p0:p3])\n",
    "    return sobel_removed\n",
    "\n",
    "\n",
    "def SeparateInCells(im, cell_x, cell_y):\n",
    "    (nrows, ncols) = im.shape\n",
    "    Nx_cell, Ny_cell = int(ncols/cell_x), int(nrows/cell_y)\n",
    "    leftout_x = ncols - int(Nx_cell*cell_x)\n",
    "    leftout_y = nrows - int(Ny_cell*cell_y)\n",
    "    if leftout_x>=0.5*cell_x:\n",
    "        Nx_cell+=1\n",
    "        leftout_x = ncols - int(Nx_cell*cell_x)\n",
    "        last_x_cell_imcomplete = True\n",
    "    else:\n",
    "        last_x_cell_imcomplete = False\n",
    "    if leftout_y>=0.75*cell_y:\n",
    "        Ny_cell+=1\n",
    "        leftout_y = nrows - int(Ny_cell*cell_y)\n",
    "        last_y_cell_imcomplete = True\n",
    "    else:\n",
    "        last_y_cell_imcomplete = False\n",
    "#     print('leftovers = ('+str(leftout_x)+', '+str(leftout_y)+')')\n",
    "    return Nx_cell, Ny_cell\n",
    "\n",
    "def GetCell(im, nx, ny, cell_x, cell_y, Nx_cell, Ny_cell):\n",
    "    if (ny==(Ny_cell-1) and nx==(Nx_cell-1)):\n",
    "        cell = im[(cell_y*ny):,(cell_x*nx):]\n",
    "    elif ny==(Ny_cell-1):\n",
    "         cell = im[(cell_y*ny):,(cell_x*nx):(cell_x*(nx+1))]\n",
    "    elif nx==(Nx_cell-1):\n",
    "        cell = im[(cell_y*ny):(cell_y*(ny+1)),(cell_x*nx):]\n",
    "    else:\n",
    "        cell = im[(cell_y*ny):(cell_y*(ny+1)),(cell_x*nx):(cell_x*(nx+1))]\n",
    "    return cell\n",
    "\n",
    "def GetNMax(cell, Nmax):\n",
    "    temp_list = cell.flatten()\n",
    "    temp_list_sorted = sorted(temp_list, reverse=True)\n",
    "    if Nmax>len(temp_list):\n",
    "        print('N max larger than cell size. Using real max.')\n",
    "        M = temp_list_sorted[0]\n",
    "    elif Nmax>int(len(temp_list)/2):\n",
    "        print('N max larger than half cell size. Consider using smaller N max.')\n",
    "        M = temp_list_sorted[Nmax]\n",
    "    else:\n",
    "        M = temp_list_sorted[Nmax]\n",
    "    return M\n",
    "\n",
    "def GetNMax_perc(cell, NmaxPerc):\n",
    "    temp_list = cell.flatten()\n",
    "    Nmax = int(NmaxPerc*len(temp_list))\n",
    "    temp_list_sorted = sorted(temp_list, reverse=True)\n",
    "    if Nmax>len(temp_list):\n",
    "        print('N max larger than cell size. Using real max.')\n",
    "        M = temp_list_sorted[0]\n",
    "    elif Nmax>int(len(temp_list)/2):\n",
    "        print('N max larger than half cell size. Consider using smaller N max.')\n",
    "        M = temp_list_sorted[Nmax]\n",
    "    else:\n",
    "        M = temp_list_sorted[Nmax]\n",
    "    return M\n",
    "\n",
    "def LoadImPerfect(path, M):\n",
    "    im_perfect = Image.open(path)\n",
    "    im_perfect = ImageOps.grayscale(im_perfect)\n",
    "    im_perfect = np.array(im_perfect).astype('float64')\n",
    "    ## Rescale im_perfect to 12 bits\n",
    "    im_perfect = im_perfect/np.amax(im_perfect)*M-1 # counting the 0\n",
    "    return im_perfect\n",
    "\n",
    "def Range(cell):\n",
    "    M = np.amax(cell)\n",
    "    m = np.amin(cell)\n",
    "    val = M-m\n",
    "    return val\n",
    "\n",
    "def Range_Perc(cell, NPerc):\n",
    "    cell_list = cell.flatten()\n",
    "    cell_list = sorted(cell_list, reverse=False)\n",
    "    MMval = int(len(cell_list)*(1.0-NPerc))\n",
    "    mmval = int(len(cell_list)*(NPerc))\n",
    "    MM = cell_list[MMval]\n",
    "    mm = cell_list[mmval]\n",
    "    val = MM-mm\n",
    "#     print(MM, mm, val)\n",
    "    return val\n",
    "\n",
    "def GetSigma(sobel_M, Michelson, a, b, c, m, n, d):\n",
    "    return (-1*np.log((sobel_M-d)/(a*(m*Michelson+n))) + c)/b\n",
    "\n",
    "\n",
    "def AdjustImPerfect(im, new_min, new_max):\n",
    "    # im b/w [old_min, old_max], want between [new_min, new_max]\n",
    "    new_im = im-np.amin(im) ## [0, old_max - old_min]\n",
    "    new_im = new_im/np.amax(new_im) ## [0,1]\n",
    "    new_im = new_im*(new_max - new_min) ##  [0, new_max - new_min]\n",
    "    new_im = new_im + new_min ## [new_min, new_max]\n",
    "    return new_im\n",
    "\n",
    "\n",
    "def FindBestSigma(sobel_val, im_perfect_sub, new_min, new_max, width, start, kk):\n",
    "    ## Rescale perfect image\n",
    "    im_perfect_sub_rescaled = AdjustImPerfect(im_perfect_sub, new_min, new_max)\n",
    "    # Define blurring params (sigma for Gaussian blurring)\n",
    "    blur_sigma_list = np.arange(0.0, 25.0, 0.05)\n",
    "    sobel_diff = 1.0 ## Theoretical largest difference\n",
    "    for sigma in blur_sigma_list:\n",
    "        im_blurred = gaussian_filter(im_perfect_sub_rescaled, sigma)\n",
    "        ## add artificial feature that normalizes the sobel\n",
    "        im_blurred_AF = AddArtificialFeature(im_blurred, width, start)\n",
    "        ## take sobel\n",
    "        im_blurred_sobel = Sobel(im_blurred_AF, kk, 'self')\n",
    "        ## remove artificial featre\n",
    "        im_blurred_sobel_noAF = RemoveArtificialFeature(im_blurred_sobel, width, start, kk)\n",
    "        ## take value of max sobel\n",
    "        MM_sobel = np.round(np.amax(im_blurred_sobel_noAF),8)\n",
    "        new_sobel_diff = np.absolute(MM_sobel-sobel_val)\n",
    "        if new_sobel_diff<sobel_diff:\n",
    "            sobel_diff = new_sobel_diff\n",
    "            best_sigma = sigma\n",
    "    return best_sigma, sobel_diff  \n",
    "\n",
    "def SigmaFromFit(sobel, gg):\n",
    "    x,y = sobel, gg\n",
    "    x0,x1,x2,x3,x4,x5,x6,x7,x8,x9,x10,x11 = 3.86586453e-01,  7.45356568e-02, -1.58228085e-01,\\\n",
    "    7.26188986e-02, -4.61201151e-01,  1.54735015e+01, -2.95744213e+01, -1.93291031e+02, \\\n",
    "    4.63108684e+02,  1.01242119e+03, -3.70339238e+03,  2.78189434e+03\n",
    "    y0,y1,y2,y3,y4,y5,y6,y7,y8,y9,y10,y11 = -1.37834750e-01,  6.20813432e+00,  2.83267585e+00,\\\n",
    "    1.36391577e+02, -7.14824149e+01, -1.13349916e+02,  1.66504399e+02, -7.79616727e+01,\\\n",
    "    1.22507725e+01,  0.00000000e+00,  0.00000000e+00,  0.00000000e+00\n",
    "    b = -1.61141766e+00\n",
    "    A = x1 + x2*(x-x0) + x3*(x-x0)**2 + x4*(x-x0)**3 + x5*(x-x0)**4 + x6*(x-x0)**5 +\\\n",
    "    x7*(x-x0)**6 + x8*(x-x0)**7 + x9*(x-x0)**8 + x10*(x-x0)**9 + x11*(x-x0)**10\n",
    "    B = y1 + y2*(y-y0) + y3*(y-y0)**2 + y4*(y-y0)**3 + y5*(y-y0)**4 + y6*(y-y0)**5 +\\\n",
    "    y7*(y-y0)**6 + y8*(y-y0)**7 #\n",
    "    + y9*(y-y0)**8 + y10*(y-y0)**9 + y10*(y-y0)**9\n",
    "    return A*B + b\n",
    "\n",
    "def Max_Perc(cell, NPerc):\n",
    "    cell_list = cell.flatten()\n",
    "    cell_list = sorted(cell_list, reverse=True)\n",
    "    MMval = int(len(cell_list)*(NPerc))\n",
    "    MM = cell_list[MMval]\n",
    "    return MM\n",
    "\n",
    "def Min_Perc(cell, NPerc):\n",
    "    cell_list = cell.flatten()\n",
    "    cell_list = sorted(cell_list, reverse=False)\n",
    "    mmval = int(len(cell_list)*(NPerc))\n",
    "    mm = cell_list[mmval]\n",
    "    return mm  \n",
    "\n",
    "def GetDarkFromPath(dark_path, isFlat, isCompressed):\n",
    "    dark_files = glob.glob(dark_path)\n",
    "    dark = []\n",
    "    if isFlat:\n",
    "        for d in dark_files:\n",
    "            dark_i = Image.open(d)\n",
    "            dark.append(np.array(dark_i).astype('float64'))\n",
    "    else:\n",
    "        for d in dark_files:\n",
    "            if isCompressed:\n",
    "                dark_i = np.load(d)['arr_0']\n",
    "            else:\n",
    "                 dark_i = np.load(d)\n",
    "            dark.append(dark_i)\n",
    "    dark = np.array(dark)\n",
    "    dark_avg = np.average(dark,axis=0)\n",
    "#     dark_std = np.std(dark)\n",
    "    return dark_avg\n",
    "\n",
    "def InvertRows(im):\n",
    "    (YY, XX) = im.shape\n",
    "    imNew = np.zeros(im.shape)\n",
    "    for j in range(0, int(YY/2)):\n",
    "        imNew[2*j,:] = im[2*j+1,:]\n",
    "        imNew[2*j+1,:] = im[2*j,:]\n",
    "    return imNew\n",
    "\n",
    "def MaskIm(im, D): ## D in pix\n",
    "    (YY,XX) = im.shape\n",
    "    x0, y0 = int(XX/2), int(YY/2)\n",
    "    mask = np.zeros(im.shape) \n",
    "    for i in range(0,XX):\n",
    "        for j in range(0,YY):\n",
    "            r = np.sqrt( (i-x0)**2 + (j-y0)**2 )\n",
    "            if r>(D/2):\n",
    "                mask[j,i] = 1\n",
    "    return ma.masked_array(im, mask=mask)\n",
    "\n",
    "def RescaleImage(im, m, M): ## im between 0 and 1\n",
    "    im_N = np.subtract(im, np.nanmin(im)) #im - np.amin(im)\n",
    "    im_N = np.divide(im, np.nanmax(im_N)) #im_N/np.amax(im_N)\n",
    "    im_N[np.where(im_N<m)] = m\n",
    "    im_N[np.where(im_N>M)] = M\n",
    "    im_N = np.subtract(im_N, np.nanmin(im_N)) #im_N-m\n",
    "    im_N = np.divide(im_N,np.nanmax(im_N)) #im_N/M\n",
    "    im_N[np.where(np.isnan(im))] = np.nan\n",
    "    return im_N * 4095 ## 12 bit depth\n",
    "\n",
    "def ComputeDark(darkPath):\n",
    "    darks_paths = glob.glob(darkPath)\n",
    "    Ndarks = len(darks_paths)\n",
    "    print(f'There are {Ndarks} darks')\n",
    "    Darks = []\n",
    "    for n in range(0,Ndarks):\n",
    "        dark = np.load(darks_paths[n])['arr_0'].astype('float64')\n",
    "        Darks.append(dark)\n",
    "    Darks = np.array(Darks)\n",
    "    dark_avg = np.average(Darks,axis=0)\n",
    "    dark_std = np.std(Darks, axis=0)\n",
    "    return dark_avg, dark_std\n"
   ]
  },
  {
   "cell_type": "code",
   "execution_count": 1,
   "id": "a7c9bf0a",
   "metadata": {},
   "outputs": [],
   "source": [
    "\"\"\"\n",
    "\n",
    "Define the paths\n",
    "\n",
    "\"\"\"\n",
    "\n",
    "\n",
    "focus_im_path = 'PATH_TO_IMAGE'\n",
    "saving_path = 'PATH_TO_SAVING_DIRECTORY'\n",
    "\n",
    "saturated_path = 'PATH_TO_WHITE_IMAGE'\n",
    "dark_path = 'PATH_TO_DARK_IMAGES_*.npz'\n",
    "\n",
    "\n",
    "path_im_perfect_curved = 'DotsSim_Curved.bmp'\n",
    "path_im_perfect_flat = 'DotsSim_Flat.bmp'"
   ]
  },
  {
   "cell_type": "code",
   "execution_count": null,
   "id": "ff13e274",
   "metadata": {},
   "outputs": [],
   "source": [
    "\"\"\"\n",
    "\n",
    "Set options for the analysis\n",
    "\n",
    "\n",
    "\"\"\"\n",
    "\n",
    "\n",
    "isFlat = False          ## If analyzing images from the flat setup, handle the different format\n",
    "isCompressed = True     ## If the numpy arrays are compressed (True for all recent data)\n",
    "maskChamber = True      ## Mask the area outside the circular chamber (Curved sensor only)\n",
    "MaskDust = True         ## If to use the white image to mask pieces of dust in the image\n",
    "DivideDark = True       ## Normalize by darks\n",
    "Inverted = False        ## For data gathered with the original code from apertus, fix line flip erro (already accounted for in GUI)\n",
    "\n",
    "MaskReflections = False ## Mask areas (4) in the image (bad reflections ruining the analysis)\n",
    "##White sphere mount2\n",
    "x1a, x1b, y1a, y1b = 1700, 2400, 1900, 2550\n",
    "x2a, x2b, y2a, y2b = 2400,3050, 1200, 1900\n",
    "x3a, x3b, y3a, y3b = 1650, 2500, 500, 1200\n",
    "x4a, x4b, y4a, y4b = 950, 1700, 1100, 1900\n",
    "\n",
    "white_path = saturated_path"
   ]
  },
  {
   "cell_type": "code",
   "execution_count": 632,
   "id": "stunning-finding",
   "metadata": {},
   "outputs": [
    {
     "name": "stdout",
     "output_type": "stream",
     "text": [
      "SET PARAMETERS: \n",
      "\n",
      "magnification --> flat: 1.0, curved: 0.893\n",
      "\n",
      "cell size --> flat: 250, curved: 325\n",
      "\n",
      "flat --> k: 7, difference from ideal: 0\n",
      "curved --> k: 9, difference from ideal: 0\n",
      "\n",
      "artificial feature width --> flat: 20, curved: 26\n",
      "\n",
      "Chamber diameter --> 18mm = 2923 pixels \n",
      "\n",
      "Rolling sobel shift --> flat: 78, curved: 101\n",
      "\n",
      " Curved detector settings \n"
     ]
    }
   ],
   "source": [
    "\"\"\"\n",
    "\n",
    "Set parameters (in physical units)\n",
    "\n",
    "\n",
    "\"\"\"\n",
    "\n",
    "D=18 ##mm                      ## Chamber diameter, in mm\n",
    "\n",
    "k_distance = 55 ##um           ## Kernel size for the sobel operator\n",
    "cell_distance = 2.0#/2 ##mm    ## Cell size\n",
    "AF_distance = 160 ##um         ## Artificial feature size (for sobel normalizaation)\n",
    "\n",
    "curved_magnification = 0.89    ## Magnification for the curved sensor instrument\n",
    "flat_magnification = 1.0       ## Magnificatino for the flat sensor instrument  \n",
    "\n",
    "curved_pixel = 5.5 #um         ## Size of a pixel in the curved sensor instrument\n",
    "flat_pixel = 8.0 ##um          ## Size of a pixel in the flat sensor instrument\n",
    "\n",
    "shiftN_distance = 0.62 ##mm    ## Rolling cells method: shift size\n",
    "\n",
    "sobel_mask_t = 0.08            ## Dust masking: Sobel threshold \n",
    "\n",
    "curved_width = 4096            ## Width (pixels) of the curved sensor\n",
    "curved_height = 3072           ## Heigth (pixels) of the curved sensor\n",
    "flat_width = 1312              ## Width (pixels) of the flat sensor\n",
    "flat_height = 1082             ## Heigth (pixels) of the flat sensor\n",
    "\n",
    "curved_white_level = 3243      ## Saturation level for the curved sensor \n",
    "                               ## (not exactly 12 bits - depends on sensor settings through cmv_reg)\n",
    "\n",
    "\n",
    "## Sharpness maps parameters, depends on the setup\n",
    "## sobel_max: set to 0 if taking the absolute maximum sobel value in the cell, >0 if taking a lower value \n",
    "##            (0.01 = 1% of the max) - allows to filter out dust that might have been missed by the mask\n",
    "## greyscale_min, greyscale_max: in percentage of sorted pixels, min and max greyscale values in the cell\n",
    "##                               also to avoid effects of noise/dust/dead pixels\n",
    "## greyscale_min_largeCell: greyscale_min for edge cells that are larger than normal cells\n",
    "if isFlat:\n",
    "    sobel_max = 0.005\n",
    "    greyscale_min, greyscale_max = 0.0000001, 0.001 #0.00014\n",
    "    greyscale_min_largeCell = 0.00007\n",
    "else:\n",
    "    sobel_max = 0.02\n",
    "    greyscale_min, greyscale_max =  0.001, 0.0005 #0.00014\n",
    "    greyscale_min_largeCell = 0.001\n",
    "    \n",
    "\n",
    "\n",
    "## *** *** *** *** *** *** *** *** ***\n",
    "\n",
    "print(f'SET PARAMETERS: \\n')\n",
    "\n",
    "## Magnification\n",
    "print(f'magnification --> flat: {flat_magnification}, curved: {curved_magnification}\\n')\n",
    "\n",
    "## Cell size\n",
    "flat_cell = int(np.round((cell_distance*10**3)/(flat_pixel/flat_magnification),0))\n",
    "flat_cell_x, flat_cell_y = flat_cell, flat_cell\n",
    "curved_cell = int(np.round((cell_distance*10**3)/(curved_pixel/curved_magnification),0))\n",
    "curved_cell_x, curved_cell_y = curved_cell, curved_cell\n",
    "print(f'cell size --> flat: {flat_cell}, curved: {curved_cell}\\n')\n",
    "\n",
    "## k\n",
    "flat_sobel_k, flat_sobel_k_diff = FindBestk(k_distance, flat_magnification, flat_pixel)\n",
    "curved_sobel_k, curved_sobel_k_diff = FindBestk(k_distance, curved_magnification, curved_pixel)\n",
    "print(f'flat --> k: {flat_sobel_k}, difference from ideal: {flat_sobel_k_diff}')\n",
    "print(f'curved --> k: {curved_sobel_k}, difference from ideal: {curved_sobel_k_diff}\\n')\n",
    "\n",
    "## Artificial feature width\n",
    "width_0_flat = int(np.round(AF_distance/(flat_pixel/flat_magnification),0))\n",
    "width_0_curved = int(np.round(AF_distance/(curved_pixel/curved_magnification),0))\n",
    "print(f'artificial feature width --> flat: {width_0_flat}, curved: {width_0_curved}\\n')\n",
    "\n",
    "## Chamber masking\n",
    "D_pix = D/(curved_pixel/curved_magnification*10**-3)\n",
    "print(f'Chamber diameter --> {D}mm = {D_pix:.0f} pixels \\n')\n",
    "\n",
    "## Rolling sobel\n",
    "shiftN_curved = int(np.round((shiftN_distance*10**3)/(curved_pixel/curved_magnification),0))\n",
    "shiftN_flat = int(np.round((shiftN_distance*10**3)/(flat_pixel/flat_magnification),0))\n",
    "print(f'Rolling sobel shift --> flat: {shiftN_flat}, curved: {shiftN_curved}\\n')\n",
    "        \n",
    "if isFlat:\n",
    "    curved_cell, curved_cell_x, curved_cell_y = flat_cell, flat_cell_x, flat_cell_y\n",
    "    curved_sobel_k, curved_sobel_k_diff = flat_sobel_k, flat_sobel_k_diff\n",
    "    width_0_curved = width_0_flat\n",
    "    shiftN = shiftN_flat\n",
    "#     sobel_mask_t = 0.006\n",
    "    print('** Selecting flat parameters **')\n",
    "else:\n",
    "    shiftN = shiftN_curved\n",
    "    print(' Curved detector settings ')\n",
    "    "
   ]
  },
  {
   "cell_type": "code",
   "execution_count": 633,
   "id": "joined-check",
   "metadata": {},
   "outputs": [],
   "source": [
    "\"\"\"\n",
    "\n",
    "\n",
    "Import image and computed extra variables from settings\n",
    "\n",
    "\n",
    "\"\"\"\n",
    "\n",
    "\n",
    "Name0_curved_all = focus_im_path.split('/')\n",
    "if isFlat:\n",
    "    Name0_curved = Name0_curved_all[-1].replace('.bmp','').replace('.tif','')\n",
    "else: \n",
    "    if isCompressed:\n",
    "        Name0_curved = Name0_curved_all[-1].replace('.npz','')\n",
    "    else:\n",
    "        Name0_curved = Name0_curved_all[-1].replace('.npy','')\n",
    "\n",
    "## dark\n",
    "dark = GetDarkFromPath(dark_path, isFlat, isCompressed)\n",
    "\n",
    "## Curved Detector Parameters\n",
    "curved_pix_size = curved_pixel/curved_magnification #um\n",
    "curved_R_chamber = (D/(curved_pix_size*10**(-3)))/2.0 ## radius of the chamber in pixels \n",
    "\n",
    "\n",
    "## Flat detector Parameters\n",
    "flat_pix_size = flat_pixel/flat_magnification #um\n",
    "flat_size_mm = float(flat_width)*(flat_pix_size*10**(-3)) ## size of the flat detector in mm\n",
    "flat_height_mm = float(flat_height)*(flat_pix_size*10**(-3)) ## size of the flat detector in mm\n",
    "flat_size_curved_pix = int(np.round(flat_size_mm/(curved_pix_size*10**(-3)),0)) ## size of the flat detector in curved detector pix\n",
    "flat_height_curved_pix = int(np.round(flat_height_mm/(curved_pix_size*10**(-3)),0))\n",
    "\n",
    "flat_R_chamber = (D/(flat_pix_size*10**(-3)))/2.0 ## radius of the chamber in pixels \n",
    "\n",
    "\n",
    "\n",
    "## Artifical feature parameters\n",
    "width_256_curved = width_0_curved\n",
    "start_0_curved = 25\n",
    "\n",
    "width_256_flat = width_0_flat\n",
    "start_0_flat = 25\n",
    "\n",
    "if isFlat:\n",
    "    curved_pixel = flat_pixel\n",
    "    curved_magnification = flat_magnification\n",
    "    width_0_curved = width_0_flat\n",
    "    width_256_curved = width_256_flat\n",
    "    start_0_curved = start_0_flat\n",
    "    curved_pix_size = flat_pix_size\n",
    "    curved_width = flat_width\n",
    "    curved_height = flat_height\n",
    "    curved_R_chamber = flat_R_chamber"
   ]
  },
  {
   "cell_type": "code",
   "execution_count": 634,
   "id": "featured-profession",
   "metadata": {},
   "outputs": [
    {
     "name": "stdout",
     "output_type": "stream",
     "text": [
      "White level curved :  2973.0\n",
      "Masking dust\n"
     ]
    },
    {
     "data": {
      "application/vnd.jupyter.widget-view+json": {
       "model_id": "4537ff8bfc0f45da928a5f739cbe2e40",
       "version_major": 2,
       "version_minor": 0
      },
      "text/plain": [
       "Canvas(toolbar=Toolbar(toolitems=[('Home', 'Reset original view', 'home', 'home'), ('Back', 'Back to previous …"
      ]
     },
     "metadata": {},
     "output_type": "display_data"
    }
   ],
   "source": [
    "\"\"\"\n",
    "\n",
    "Mask dust\n",
    "\n",
    "\n",
    "\"\"\"\n",
    "\n",
    "if isFlat:\n",
    "    im_white = Image.open(white_path)\n",
    "    im_white = np.array(im_white).astype('float64')\n",
    "    curved_white_level = np.amax(im_white)\n",
    "else:\n",
    "    if isCompressed:\n",
    "        im_white = np.load(white_path)['arr_0']\n",
    "        im_white = im_white.astype('float64')\n",
    "        curved_white_level = np.amax(np.load(saturated_path)['arr_0'])\n",
    "    else:\n",
    "        im_white = np.load(white_path).astype('float64')\n",
    "        curved_white_level = np.amax(np.load(saturated_path))\n",
    "\n",
    "\n",
    "print('White level curved : ', curved_white_level)\n",
    "\n",
    "im_white_AF = AddArtificialFeature(im_white, width_0_curved, start_0_curved)\n",
    "im_white_sobel_AF = Sobel(im_white_AF, curved_sobel_k, \"self\")\n",
    "im_white_sobel = RemoveArtificialFeature(im_white_sobel_AF, width_0_curved, start_0_curved, curved_sobel_k)\n",
    "## Crop sides with artefacts\n",
    "im_white_sobel = im_white_sobel[:,2*curved_sobel_k:-2*curved_sobel_k]\n",
    "\n",
    "(Mask_y, Mask_x) = np.where(im_white_sobel>sobel_mask_t)\n",
    "if MaskDust:\n",
    "    print('Masking dust')\n",
    "    mask_white = np.zeros((im_white_sobel.shape))\n",
    "    for i in range(0, len(Mask_x)):\n",
    "        x, y = Mask_x[i], Mask_y[i]\n",
    "        mask_white[y,x] = 1\n",
    "else:\n",
    "    if isFlat:\n",
    "        focus_im = Image.open(focus_im_path)\n",
    "        focus_im = np.array(focus_im).astype('float64')\n",
    "    else:\n",
    "        if isCompressed:\n",
    "            focus_im = np.load(focus_im_path)['arr_0']\n",
    "            focus_im = focus_im.astype('float64')\n",
    "        else:\n",
    "            focus_im = np.load(focus_im_path).astype('float64')\n",
    "    focus_im = focus_im[:,2*curved_sobel_k:-2*curved_sobel_k]\n",
    "    mask_white = np.zeros((focus_im.shape))\n",
    "\n",
    "\n",
    "if MaskReflections:\n",
    "    mask_white[y1a:y1b, x1a:x1b] = 1\n",
    "    mask_white[y2a:y2b, x2a:x2b] = 1\n",
    "    mask_white[y3a:y3b, x3a:x3b] = 1\n",
    "    mask_white[y4a:y4b, x4a:x4b] = 1\n",
    "    \n",
    "\n",
    "white_sobel_masked = ma.masked_array(im_white_sobel, mask=mask_white)\n",
    "if maskChamber:\n",
    "    white_sobel_masked = MaskIm(white_sobel_masked, D_pix)\n",
    "\n",
    "\n",
    "# ## Plot for testing     \n",
    "# plt.close()\n",
    "# plt.figure()\n",
    "# plt.imshow(mask_white, origin='lower', cmap='gray')\n",
    "# plt.colorbar()\n",
    "# plt.show()"
   ]
  },
  {
   "cell_type": "code",
   "execution_count": 635,
   "id": "killing-liabilities",
   "metadata": {},
   "outputs": [],
   "source": [
    "\"\"\"\n",
    "\n",
    "Load perfect image (sigma extraction)\n",
    "\n",
    "\n",
    "\"\"\"\n",
    "\n",
    "\n",
    "im_perfect_curved = LoadImPerfect(path_im_perfect_curved, 2**12)\n",
    "im_perfect_flat = LoadImPerfect(path_im_perfect_flat, 2**12)\n",
    "\n",
    "# if isFlat:\n",
    "#     im_perfect_curved = im_perfect_flat\n",
    "    \n",
    "plot_range_curved = 300\n",
    "plot_range_flat = int((plot_range_curved*curved_pixel*curved_magnification)/(flat_pixel*flat_magnification))\n",
    "(YY, XX) = im_perfect_curved.shape\n",
    "(YY_flat, XX_flat) = im_perfect_flat.shape\n",
    "\n",
    "im_perfect_flat_sub = im_perfect_flat[0:plot_range_flat,0:plot_range_flat]\n",
    "im_perfect_curved_sub = im_perfect_curved[0:plot_range_curved,0:plot_range_curved]"
   ]
  },
  {
   "cell_type": "code",
   "execution_count": 637,
   "id": "selective-stylus",
   "metadata": {},
   "outputs": [
    {
     "name": "stdout",
     "output_type": "stream",
     "text": [
      "Is curved alright\n"
     ]
    }
   ],
   "source": [
    "\"\"\"\n",
    "\n",
    "\n",
    "Curved detector\n",
    "\n",
    "\n",
    "\"\"\"\n",
    "\n",
    "if isFlat:\n",
    "    print('Careful: Parameters set to flat settings')\n",
    "else:\n",
    "    print('Parameters correctly set to curved settings')"
   ]
  },
  {
   "cell_type": "code",
   "execution_count": 639,
   "id": "prescribed-equipment",
   "metadata": {},
   "outputs": [
    {
     "name": "stdout",
     "output_type": "stream",
     "text": [
      "There are 8 darks\n",
      "There are 8 darks\n"
     ]
    }
   ],
   "source": [
    "\"\"\"\n",
    "Take Sobel\n",
    "\n",
    "\"\"\"\n",
    "\n",
    "\n",
    "if isFlat:\n",
    "    focus_im = Image.open(focus_im_path)\n",
    "    focus_im = np.array(focus_im).astype('float64')\n",
    "    \n",
    "else:\n",
    "    if isCompressed:\n",
    "        focus_im = np.load(focus_im_path)['arr_0']\n",
    "        focus_im = focus_im.astype('float64')\n",
    "        if DivideDark:\n",
    "            dark_avg, dark_std = ComputeDark(dark_path)\n",
    "            focus_im = np.subtract(focus_im, dark_avg)\n",
    "        if imRescale:\n",
    "            focus_im = focus_im/np.amax(focus_im)\n",
    "            focus_im = RescaleImage(focus_im, m_rescale, M_rescale)\n",
    "        \n",
    "    else:\n",
    "        focus_im = np.load(focus_im_path).astype('float64')\n",
    "\n",
    "## Inverting the Rows\n",
    "if Inverted:\n",
    "    focus_im = InvertRows(focus_im)\n",
    "\n",
    "if maskChamber:\n",
    "    focus_im = MaskIm(focus_im, D_pix)\n",
    "\n",
    "focus_im_AF = AddArtificialFeature(focus_im, width_0_curved, start_0_curved)\n",
    "focus_sobel_AF = Sobel(focus_im_AF, curved_sobel_k, 'self')\n",
    "focus_sobel = RemoveArtificialFeature(focus_sobel_AF, width_0_curved, start_0_curved, curved_sobel_k)\n",
    "## Crop sides with artefacts\n",
    "focus_sobel = focus_sobel[:,2*curved_sobel_k:-2*curved_sobel_k]\n",
    "\n",
    "## Reload focus im because for some reason AF also added to the original ??\n",
    "if isFlat:\n",
    "    focus_im = Image.open(focus_im_path)\n",
    "    focus_im = np.array(focus_im).astype('float64')\n",
    "    \n",
    "else:\n",
    "    if isCompressed:\n",
    "        focus_im = np.load(focus_im_path)['arr_0']\n",
    "        focus_im = focus_im.astype('float64')\n",
    "        if DivideDark:\n",
    "            dark_avg, dark_std = ComputeDark(dark_path)\n",
    "            focus_im = np.subtract(focus_im, dark_avg)\n",
    "        if imRescale:\n",
    "            focus_im = focus_im/np.amax(focus_im)\n",
    "            focus_im = RescaleImage(focus_im, m_rescale, M_rescale)\n",
    "    else:\n",
    "        focus_im = np.load(focus_im_path).astype('float64')\n",
    "\n",
    "## Inverting the Rows\n",
    "if Inverted:\n",
    "    focus_im = InvertRows(focus_im)\n",
    "\n",
    "focus_im = focus_im[:,2*curved_sobel_k:-2*curved_sobel_k]\n",
    "\n",
    "## Mask the dirt in the image\n",
    "focus_im = ma.masked_array(focus_im, mask=mask_white)\n",
    "## Mask the sobel caused by dirt on the detector\n",
    "focus_sobel = ma.masked_array(focus_sobel, mask=mask_white)\n",
    "\n",
    "if maskChamber:\n",
    "    focus_im = MaskIm(focus_im, D_pix)\n",
    "    focus_sobel = MaskIm(focus_sobel, D_pix)"
   ]
  },
  {
   "cell_type": "code",
   "execution_count": 642,
   "id": "macro-width",
   "metadata": {},
   "outputs": [
    {
     "data": {
      "application/vnd.jupyter.widget-view+json": {
       "model_id": "9c2c36b4df91498ebe50ae5baef9196f",
       "version_major": 2,
       "version_minor": 0
      },
      "text/plain": [
       "Canvas(toolbar=Toolbar(toolitems=[('Home', 'Reset original view', 'home', 'home'), ('Back', 'Back to previous …"
      ]
     },
     "metadata": {},
     "output_type": "display_data"
    },
    {
     "data": {
      "application/vnd.jupyter.widget-view+json": {
       "model_id": "b835caaa6b954ae29cbe4989f8f46c55",
       "version_major": 2,
       "version_minor": 0
      },
      "text/plain": [
       "Canvas(toolbar=Toolbar(toolitems=[('Home', 'Reset original view', 'home', 'home'), ('Back', 'Back to previous …"
      ]
     },
     "metadata": {},
     "output_type": "display_data"
    }
   ],
   "source": [
    "\"\"\"\n",
    "Plot image and sobel with cells shown\n",
    "\n",
    "\"\"\"\n",
    "cell_x, cell_y = curved_cell_x, curved_cell_y\n",
    "Nx, Ny = SeparateInCells(focus_im, cell_x, cell_y)\n",
    "\n",
    "# vmax_sobel = 0.45 ## Flat\n",
    "vmax_sobel = 0.08 ## Curved\n",
    "# vmax_sobel = 0.03 ## Curved in vivo\n",
    "# vmax_sobel = 0.003 ## Flat in vivo\n",
    "\n",
    "## IMAGE\n",
    "plt.close()\n",
    "fig = plt.figure(figsize=(9,7))\n",
    "ax = fig.add_subplot(1, 1, 1)\n",
    "\n",
    "im = ax.imshow(focus_im, origin='lower', cmap='gray') #,vmin=0.0, vmax=1.0\n",
    "# ax.set_title('Image, cells=('+str(cell_x)+', '+str(cell_y)+')')\n",
    "\n",
    "(YY, XX) = focus_im.shape\n",
    "\n",
    "for nx in range(0,Nx-1):\n",
    "    x_pos = cell_x*(nx+1)\n",
    "    ax.vlines(x_pos, ymin=0, ymax=(YY-1), colors='blue', lw=0.5, alpha=0.5)\n",
    "\n",
    "for ny in range(0,Ny-1):\n",
    "    y_pos = cell_y*(ny+1)\n",
    "    ax.hlines(y_pos, xmin=0, xmax=(XX-1), colors='blue', lw=0.5, alpha=0.5)\n",
    "    \n",
    "if isFlat==False:\n",
    "    circ_chamber = patches.Circle((XX/2, YY/2), curved_R_chamber, alpha=0.7, lw=2.0,\n",
    "                                  edgecolor='indianred', facecolor='None')\n",
    "    ax.add_patch(circ_chamber)\n",
    "    #     ## vertical flat sensor\n",
    "#     square_photonfocus = patches.Rectangle((XX/2-flat_height_curved_pix/2, YY/2-flat_size_curved_pix/2),\n",
    "#                                            flat_height_curved_pix, flat_size_curved_pix, alpha=0.7, lw=2.0, \n",
    "#                                            edgecolor='limegreen', facecolor='None')\n",
    "    ## horizontal flat sensor\n",
    "    square_photonfocus = patches.Rectangle((XX/2-flat_size_curved_pix/2, YY/2-flat_height_curved_pix/2),\n",
    "                                           flat_size_curved_pix, flat_height_curved_pix, alpha=0.7, lw=2.0, \n",
    "                                           edgecolor='limegreen', facecolor='None')\n",
    "    ax.add_patch(square_photonfocus)\n",
    "\n",
    "# ax.set_xlabel('X [pixel]')\n",
    "# ax.set_ylabel('Y [pixel]')\n",
    "\n",
    "# divider = make_axes_locatable(ax)\n",
    "# cax = divider.append_axes('right', size='5%', pad=0.05)\n",
    "# fig.colorbar(im, cax=cax, orientation='vertical')\n",
    "\n",
    "Nticks = 6\n",
    "stepx = int(np.round(curved_width/(Nticks),0))\n",
    "Xlist = np.linspace(0,curved_width, curved_width)\n",
    "Xlist_mm = [i*curved_pixel*10**(-3) for i in Xlist] #- (curved_width*curved_pixel*10**(-3))/2\n",
    "Xlist_mm = Xlist_mm-max(Xlist_mm)/2 #max(Xlist_mm)/2+0.01\n",
    "Xticks_loc = [i*1.0/Nticks*curved_width for i in range(0,Nticks)]\n",
    "Xticks_loc.append(curved_width)\n",
    "Xticks_val = [np.round(Xlist_mm[i*stepx],1) for i in range(0,Nticks)]\n",
    "Xticks_val.append(np.round(Xlist_mm[-1],1))\n",
    "\n",
    "stepy = int(np.round(curved_height/(Nticks),0))\n",
    "Ylist = np.linspace(0,curved_height, curved_height)\n",
    "Ylist_mm = [i*curved_pixel*10**(-3) for i in Ylist]\n",
    "Ylist_mm = Ylist_mm-(max(Ylist_mm)/2)\n",
    "Yticks_loc = [i*1.0/Nticks*curved_height for i in range(0,Nticks)]\n",
    "Yticks_loc.append(curved_height)\n",
    "Yticks_val = [np.round(Ylist_mm[i*stepy],1) for i in range(0,Nticks)]\n",
    "Yticks_val.append(np.round(Ylist_mm[-1],1))\n",
    "\n",
    "ax.set_xticks(Xticks_loc)\n",
    "ax.set_xticklabels(Xticks_val, fontsize=14)\n",
    "ax.set_yticks(Yticks_loc)\n",
    "ax.set_yticklabels(Yticks_val, fontsize=14)\n",
    "\n",
    "ax.set_xlabel('X position [mm]', fontsize=16)\n",
    "ax.set_ylabel('Y position [mm]', fontsize=16)\n",
    "\n",
    "divider = make_axes_locatable(ax)\n",
    "cax = divider.append_axes('right', size='5%', pad=0.05)\n",
    "cbar = fig.colorbar(im, cax=cax, orientation='vertical')\n",
    "cbar.ax.tick_params(labelsize=14)\n",
    "\n",
    "plt.tight_layout()\n",
    "plt.savefig(saving_path+Name0_curved+'.png', transparent=True)\n",
    "plt.show()\n",
    "# plt.close()\n",
    "\n",
    "## ******************************************************************************************\n",
    "\n",
    "\n",
    "## SOBEL\n",
    "\n",
    "\n",
    "plt.close()\n",
    "fig = plt.figure(figsize=(9,7))\n",
    "ax = fig.add_subplot(1, 1, 1)\n",
    "\n",
    "im = ax.imshow(focus_sobel, origin='lower', cmap='jet', vmax=vmax_sobel) #,vmin=0.0, vmax=1.0\n",
    "# ax.set_title('Sobel, k='+str(curved_sobel_k)+', cells=('+str(cell_x)+', '+str(cell_y)+')')\n",
    "\n",
    "\n",
    "(YY, XX) = focus_sobel.shape\n",
    "\n",
    "for nx in range(0,Nx-1):\n",
    "    x_pos = cell_x*(nx+1)\n",
    "    ax.vlines(x_pos, ymin=0, ymax=(YY-1), lw=0.5, alpha=1.0)\n",
    "\n",
    "for ny in range(0,Ny-1):\n",
    "    y_pos = cell_y*(ny+1)\n",
    "    ax.hlines(y_pos, xmin=0, xmax=(XX-1), lw=0.5, alpha=1.0)\n",
    "    \n",
    "\n",
    "if isFlat==False:\n",
    "    circ_chamber = patches.Circle((XX/2, YY/2), curved_R_chamber, alpha=0.7, lw=2.0,\n",
    "                                  edgecolor='indianred', facecolor='None')\n",
    "    ax.add_patch(circ_chamber)\n",
    "#     ## vertical flat sensor\n",
    "#     square_photonfocus = patches.Rectangle((XX/2-flat_height_curved_pix/2, YY/2-flat_size_curved_pix/2),\n",
    "#                                            flat_height_curved_pix, flat_size_curved_pix, alpha=0.7, lw=2.0, \n",
    "#                                            edgecolor='limegreen', facecolor='None')\n",
    "    ## horizontal flat sensor\n",
    "    square_photonfocus = patches.Rectangle((XX/2-flat_size_curved_pix/2, YY/2-flat_height_curved_pix/2),\n",
    "                                           flat_size_curved_pix, flat_height_curved_pix, alpha=0.7, lw=2.0, \n",
    "                                           edgecolor='limegreen', facecolor='None')\n",
    "    ax.add_patch(square_photonfocus)\n",
    "\n",
    "\n",
    "# ax.set_xlabel('X [pixel]')\n",
    "# ax.set_ylabel('Y [pixel]')\n",
    "# divider = make_axes_locatable(ax)\n",
    "# cax = divider.append_axes('right', size='5%', pad=0.05)\n",
    "# fig.colorbar(im, cax=cax, orientation='vertical')\n",
    "\n",
    "\n",
    "Nticks = 6\n",
    "stepx = int(np.round(curved_width/(Nticks),0))\n",
    "Xlist = np.linspace(0,curved_width, curved_width)\n",
    "Xlist_mm = [i*curved_pixel*10**(-3) for i in Xlist] #- (curved_width*curved_pixel*10**(-3))/2\n",
    "Xlist_mm = Xlist_mm-max(Xlist_mm)/2 #max(Xlist_mm)/2+0.01\n",
    "Xticks_loc = [i*1.0/Nticks*curved_width for i in range(0,Nticks)]\n",
    "Xticks_loc.append(curved_width)\n",
    "Xticks_val = [np.round(Xlist_mm[i*stepx],1) for i in range(0,Nticks)]\n",
    "Xticks_val.append(np.round(Xlist_mm[-1],1))\n",
    "\n",
    "stepy = int(np.round(curved_height/(Nticks),0))\n",
    "Ylist = np.linspace(0,curved_height, curved_height)\n",
    "Ylist_mm = [i*curved_pixel*10**(-3) for i in Ylist]\n",
    "Ylist_mm = Ylist_mm-(max(Ylist_mm)/2)\n",
    "Yticks_loc = [i*1.0/Nticks*curved_height for i in range(0,Nticks)]\n",
    "Yticks_loc.append(curved_height)\n",
    "Yticks_val = [np.round(Ylist_mm[i*stepy],1) for i in range(0,Nticks)]\n",
    "Yticks_val.append(np.round(Ylist_mm[-1],1))\n",
    "\n",
    "ax.set_xticks(Xticks_loc)\n",
    "ax.set_xticklabels(Xticks_val, fontsize=14)\n",
    "ax.set_yticks(Yticks_loc)\n",
    "ax.set_yticklabels(Yticks_val, fontsize=14)\n",
    "\n",
    "ax.set_xlabel('X position [mm]', fontsize=16)\n",
    "ax.set_ylabel('Y position [mm]', fontsize=16)\n",
    "\n",
    "divider = make_axes_locatable(ax)\n",
    "cax = divider.append_axes('right', size='5%', pad=0.05)\n",
    "cbar = fig.colorbar(im, cax=cax, orientation='vertical')\n",
    "cbar.ax.tick_params(labelsize=14)\n",
    "\n",
    "\n",
    "plt.tight_layout()\n",
    "plt.savefig(saving_path+Name0_curved+'_sobel_k'+str(curved_sobel_k)+'_mm.png', transparent=True)\n",
    "# plt.show()\n",
    "plt.close()\n"
   ]
  },
  {
   "cell_type": "code",
   "execution_count": 643,
   "id": "organized-inspection",
   "metadata": {},
   "outputs": [
    {
     "data": {
      "application/vnd.jupyter.widget-view+json": {
       "model_id": "b60fdad5256849d18f3301c56b4fa52e",
       "version_major": 2,
       "version_minor": 0
      },
      "text/plain": [
       "  0%|          | 0/12 [00:00<?, ?it/s]"
      ]
     },
     "metadata": {},
     "output_type": "display_data"
    },
    {
     "data": {
      "application/vnd.jupyter.widget-view+json": {
       "model_id": "fd68f5508b32413a9faa446d4f7f3928",
       "version_major": 2,
       "version_minor": 0
      },
      "text/plain": [
       "  0%|          | 0/9 [00:00<?, ?it/s]"
      ]
     },
     "metadata": {},
     "output_type": "display_data"
    },
    {
     "data": {
      "application/vnd.jupyter.widget-view+json": {
       "model_id": "caaa23ff91f24047b214803fbad06ec2",
       "version_major": 2,
       "version_minor": 0
      },
      "text/plain": [
       "  0%|          | 0/9 [00:00<?, ?it/s]"
      ]
     },
     "metadata": {},
     "output_type": "display_data"
    },
    {
     "data": {
      "application/vnd.jupyter.widget-view+json": {
       "model_id": "6dd1b2f6a90e441eb6e27a468e809766",
       "version_major": 2,
       "version_minor": 0
      },
      "text/plain": [
       "  0%|          | 0/9 [00:00<?, ?it/s]"
      ]
     },
     "metadata": {},
     "output_type": "display_data"
    },
    {
     "data": {
      "application/vnd.jupyter.widget-view+json": {
       "model_id": "60289ee184314f1ca09ab0a4723e95b1",
       "version_major": 2,
       "version_minor": 0
      },
      "text/plain": [
       "  0%|          | 0/9 [00:00<?, ?it/s]"
      ]
     },
     "metadata": {},
     "output_type": "display_data"
    },
    {
     "data": {
      "application/vnd.jupyter.widget-view+json": {
       "model_id": "8c0ef492f0f1441c99216ced67e5ad31",
       "version_major": 2,
       "version_minor": 0
      },
      "text/plain": [
       "  0%|          | 0/9 [00:00<?, ?it/s]"
      ]
     },
     "metadata": {},
     "output_type": "display_data"
    },
    {
     "data": {
      "application/vnd.jupyter.widget-view+json": {
       "model_id": "839ae4da3f0341878eca18cdf032ae0f",
       "version_major": 2,
       "version_minor": 0
      },
      "text/plain": [
       "  0%|          | 0/9 [00:00<?, ?it/s]"
      ]
     },
     "metadata": {},
     "output_type": "display_data"
    },
    {
     "data": {
      "application/vnd.jupyter.widget-view+json": {
       "model_id": "64f0b27bcc9f4928afd35d1c44a00881",
       "version_major": 2,
       "version_minor": 0
      },
      "text/plain": [
       "  0%|          | 0/9 [00:00<?, ?it/s]"
      ]
     },
     "metadata": {},
     "output_type": "display_data"
    },
    {
     "data": {
      "application/vnd.jupyter.widget-view+json": {
       "model_id": "a8e15f7a08904cd881a47fbabeffbf0a",
       "version_major": 2,
       "version_minor": 0
      },
      "text/plain": [
       "  0%|          | 0/9 [00:00<?, ?it/s]"
      ]
     },
     "metadata": {},
     "output_type": "display_data"
    },
    {
     "data": {
      "application/vnd.jupyter.widget-view+json": {
       "model_id": "8ba5fd3bd5cf4801a081018372b6c132",
       "version_major": 2,
       "version_minor": 0
      },
      "text/plain": [
       "  0%|          | 0/9 [00:00<?, ?it/s]"
      ]
     },
     "metadata": {},
     "output_type": "display_data"
    },
    {
     "data": {
      "application/vnd.jupyter.widget-view+json": {
       "model_id": "7f8b1ec409df41e69d5bd42e60196e28",
       "version_major": 2,
       "version_minor": 0
      },
      "text/plain": [
       "  0%|          | 0/9 [00:00<?, ?it/s]"
      ]
     },
     "metadata": {},
     "output_type": "display_data"
    },
    {
     "data": {
      "application/vnd.jupyter.widget-view+json": {
       "model_id": "76ac748c9c60452abf04b2f616950500",
       "version_major": 2,
       "version_minor": 0
      },
      "text/plain": [
       "  0%|          | 0/9 [00:00<?, ?it/s]"
      ]
     },
     "metadata": {},
     "output_type": "display_data"
    },
    {
     "data": {
      "application/vnd.jupyter.widget-view+json": {
       "model_id": "17aed0da886d4d02b66478d2a397cedc",
       "version_major": 2,
       "version_minor": 0
      },
      "text/plain": [
       "  0%|          | 0/9 [00:00<?, ?it/s]"
      ]
     },
     "metadata": {},
     "output_type": "display_data"
    }
   ],
   "source": [
    "\"\"\"\n",
    "Separate the image in cells\n",
    "\n",
    "\"\"\"\n",
    "\n",
    "if isFlat==False:\n",
    "    std_min = 0\n",
    "    white_min = 0\n",
    "#     std_min = 150\n",
    "#     white_min = 2500\n",
    "else:\n",
    "    std_min = 0\n",
    "    white_min = 0\n",
    "\n",
    "greyscale_sigma_min = 0.1\n",
    "MinNotMasked = int(0.5*cell_x*cell_y)\n",
    "\n",
    "\n",
    "\n",
    "cell_x, cell_y = curved_cell_x, curved_cell_y\n",
    "width, start, kk = width_0_curved, start_0_curved, curved_sobel_k\n",
    "\n",
    "## *******************************************************************************************************\n",
    "\n",
    "\n",
    "Nx, Ny = SeparateInCells(focus_im, cell_x, cell_y)\n",
    "\n",
    "Greyscale_array = np.zeros(focus_im.shape)\n",
    "Sigma_array_fit = np.zeros(focus_im.shape)\n",
    "Sigma_array_brute = np.zeros(focus_im.shape)\n",
    "# sobelDiff_array = np.zeros(focus_im.shape)\n",
    "sobelMax_array = np.zeros(focus_im.shape)\n",
    "\n",
    "Gmin_array = np.zeros(focus_im.shape)\n",
    "Gmax_array = np.zeros(focus_im.shape)\n",
    "\n",
    "std_array = np.zeros(focus_im.shape)\n",
    "\n",
    "for nx in tnrange(0,Nx):\n",
    "    for ny in tnrange(0,Ny):\n",
    "        cell = GetCell(focus_im, nx, ny, cell_x, cell_y, Nx, Ny)\n",
    "        cell_whole = cell\n",
    "        cell_sobel = GetCell(focus_sobel, nx, ny, cell_x, cell_y, Nx, Ny)\n",
    "        if maskChamber:\n",
    "            allMasked = cell.mask.all()\n",
    "            cell = cell.compressed()\n",
    "            cell_sobel = cell_sobel.compressed()\n",
    "        else:\n",
    "            allMasked = False\n",
    "            \n",
    "        if allMasked:\n",
    "            gg = np.nan\n",
    "            sobel_M = np.nan\n",
    "            best_sigma = np.nan\n",
    "            sigma = np.nan\n",
    "            new_min = np.nan\n",
    "            new_max = np.nan\n",
    "            std_val = np.nan\n",
    "        elif cell_whole.count() < MinNotMasked:\n",
    "#             print(f'Deleting cell ({nx},{ny})')\n",
    "            gg = np.nan\n",
    "            sobel_M = np.nan\n",
    "            best_sigma = np.nan\n",
    "            sigma = np.nan\n",
    "            new_min = np.nan\n",
    "            new_max = np.nan\n",
    "            std_val = np.nan\n",
    "            \n",
    "        else:\n",
    "            std_val = np.std(cell)\n",
    "            ## Get max sobel for this cell (~0.5% of the max to avoid dust)\n",
    "            sobel_M = GetNMax_perc(cell_sobel, sobel_max)\n",
    "            ## Get greyscale of cell (% of max, avoid dust)\n",
    "            flattened_cell = cell.flatten()\n",
    "            \n",
    "            if len(flattened_cell)<=((cell_x+1)*(cell_y+1)):\n",
    "                new_min, new_max = Min_Perc(cell, greyscale_min), Max_Perc(cell, greyscale_max)\n",
    "            else:\n",
    "                new_min, new_max = Min_Perc(cell, greyscale_min_largeCell), Max_Perc(cell, greyscale_max)\n",
    "                \n",
    "\n",
    "            if isFlat:\n",
    "                gg = (new_max - new_min)/(2**12-120)\n",
    "            else:\n",
    "                gg = (new_max - new_min)/(curved_white_level-120)\n",
    "            ## if white level too low (too dark), or if the std is too small (no feature), can't compute the sigma\n",
    "            if new_max<white_min:# or std_val<std_min:\n",
    "                best_sigma = np.nan\n",
    "                sigma = np.nan\n",
    "            else:\n",
    "                sigma = SigmaFromFit(sobel_M, gg)\n",
    "                ## Get best sigma fit with this new greyscale by artificallt blurring a theoretical image\n",
    "                best_sigma, sobel_diff = FindBestSigma(sobel_M, im_perfect_curved_sub, new_min, new_max, width, start, kk)\n",
    "\n",
    "        for ii in range(0,len(cell_whole[0,:])):\n",
    "                for jj in range(0,len(cell_whole[:,0])):\n",
    "                    working_x = cell_x*nx + ii\n",
    "                    working_y = cell_y*ny + jj\n",
    "                    Greyscale_array[working_y, working_x] = gg\n",
    "                    sobelMax_array[working_y, working_x] = sobel_M\n",
    "                    Sigma_array_brute[working_y, working_x] = best_sigma\n",
    "                    Sigma_array_fit[working_y, working_x] = sigma\n",
    "                    Gmin_array[working_y, working_x] = new_min\n",
    "                    Gmax_array[working_y, working_x] = new_max\n",
    "                    std_array[working_y, working_x] = std_val\n"
   ]
  },
  {
   "cell_type": "code",
   "execution_count": 644,
   "id": "saved-generic",
   "metadata": {},
   "outputs": [],
   "source": [
    "# \"\"\"\n",
    "\n",
    "# Standard deviation\n",
    "\n",
    "# \"\"\"\n",
    "\n",
    "\n",
    "# fig = plt.figure(figsize=(9,7))\n",
    "# ax = fig.add_subplot(1, 1, 1)\n",
    "\n",
    "# im = ax.imshow(std_array, origin='lower', cmap='viridis')\n",
    "\n",
    "# if isFlat==False:\n",
    "#     circ_chamber = patches.Circle((XX/2, YY/2), curved_R_chamber, alpha=0.7, lw=2.0,\n",
    "#                                   edgecolor='indianred', facecolor='None')\n",
    "#     ax.add_patch(circ_chamber)\n",
    "#     #     ## vertical flat sensor\n",
    "# #     square_photonfocus = patches.Rectangle((XX/2-flat_height_curved_pix/2, YY/2-flat_size_curved_pix/2),\n",
    "# #                                            flat_height_curved_pix, flat_size_curved_pix, alpha=0.7, lw=2.0, \n",
    "# #                                            edgecolor='limegreen', facecolor='None')\n",
    "#     ## horizontal flat sensor\n",
    "#     square_photonfocus = patches.Rectangle((XX/2-flat_size_curved_pix/2, YY/2-flat_height_curved_pix/2),\n",
    "#                                            flat_size_curved_pix, flat_height_curved_pix, alpha=0.7, lw=2.0, \n",
    "#                                            edgecolor='limegreen', facecolor='None')\n",
    "#     ax.add_patch(square_photonfocus)\n",
    "\n",
    "\n",
    "# Nticks = 6\n",
    "# stepx = int(np.round(curved_width/(Nticks),0))\n",
    "# Xlist = np.linspace(0,curved_width, curved_width)\n",
    "# Xlist_mm = [i*curved_pixel*10**(-3) for i in Xlist] #- (curved_width*curved_pixel*10**(-3))/2\n",
    "# Xlist_mm = Xlist_mm-max(Xlist_mm)/2 #max(Xlist_mm)/2+0.01\n",
    "# Xticks_loc = [i*1.0/Nticks*curved_width for i in range(0,Nticks)]\n",
    "# Xticks_loc.append(curved_width)\n",
    "# Xticks_val = [np.round(Xlist_mm[i*stepx],1) for i in range(0,Nticks)]\n",
    "# Xticks_val.append(np.round(Xlist_mm[-1],1))\n",
    "\n",
    "# stepy = int(np.round(curved_height/(Nticks),0))\n",
    "# Ylist = np.linspace(0,curved_height, curved_height)\n",
    "# Ylist_mm = [i*curved_pixel*10**(-3) for i in Ylist]\n",
    "# Ylist_mm = Ylist_mm-(max(Ylist_mm)/2)\n",
    "# Yticks_loc = [i*1.0/Nticks*curved_height for i in range(0,Nticks)]\n",
    "# Yticks_loc.append(curved_height)\n",
    "# Yticks_val = [np.round(Ylist_mm[i*stepy],1) for i in range(0,Nticks)]\n",
    "# Yticks_val.append(np.round(Ylist_mm[-1],1))\n",
    "\n",
    "# ax.set_xticks(Xticks_loc)\n",
    "# ax.set_xticklabels(Xticks_val, fontsize=14)\n",
    "# ax.set_yticks(Yticks_loc)\n",
    "# ax.set_yticklabels(Yticks_val, fontsize=14)\n",
    "\n",
    "# ax.set_xlabel('X position [mm]', fontsize=16)\n",
    "# ax.set_ylabel('Y position [mm]', fontsize=16)\n",
    "\n",
    "# divider = make_axes_locatable(ax)\n",
    "# cax = divider.append_axes('right', size='5%', pad=0.05)\n",
    "# cbar = fig.colorbar(im, cax=cax, orientation='vertical')\n",
    "# cbar.ax.tick_params(labelsize=14)\n",
    "\n",
    "# plt.tight_layout()\n",
    "# if Inverted:\n",
    "#     plt.savefig(saving_path+Name0_curved+'_std.png', transparent=True)\n",
    "# else:\n",
    "#     plt.savefig(saving_path+Name0_curved+'_std.png', transparent=True)\n",
    "\n",
    "# plt.show()\n",
    "# # plt.close()"
   ]
  },
  {
   "cell_type": "code",
   "execution_count": 573,
   "id": "indirect-fountain",
   "metadata": {},
   "outputs": [
    {
     "data": {
      "application/vnd.jupyter.widget-view+json": {
       "model_id": "e03f5bac55a04819a222c5fad3c5a443",
       "version_major": 2,
       "version_minor": 0
      },
      "text/plain": [
       "Canvas(toolbar=Toolbar(toolitems=[('Home', 'Reset original view', 'home', 'home'), ('Back', 'Back to previous …"
      ]
     },
     "metadata": {},
     "output_type": "display_data"
    }
   ],
   "source": [
    "\"\"\"\n",
    "\n",
    "Looking at min and max values of greyscale (debug mode)\n",
    "\n",
    "\n",
    "\"\"\"\n",
    "\n",
    "\n",
    "plt.close()\n",
    "\n",
    "fig, ax = plt.subplots(2, 1, figsize=(7,10))\n",
    "im0 = ax[0].imshow(Gmin_array, origin='lower', cmap='gray')\n",
    "\n",
    "divider = make_axes_locatable(ax[0])\n",
    "cax = divider.append_axes('right', size='5%', pad=0.05)\n",
    "fig.colorbar(im0, cax=cax, orientation='vertical')\n",
    "\n",
    "im1 = ax[1].imshow(Gmax_array, origin='lower', cmap='gray')\n",
    "\n",
    "divider = make_axes_locatable(ax[1])\n",
    "cax = divider.append_axes('right', size='5%', pad=0.05)\n",
    "fig.colorbar(im1, cax=cax, orientation='vertical')\n",
    "\n",
    "if isFlat==False:\n",
    "    circ_chamber = patches.Circle((XX/2, YY/2), curved_R_chamber, alpha=0.7, lw=2.0,\n",
    "                                  edgecolor='indianred', facecolor='None')\n",
    "    square_photonfocus = patches.Rectangle((XX/2-flat_height_curved_pix/2, YY/2-flat_size_curved_pix/2),\n",
    "                                           flat_height_curved_pix, flat_size_curved_pix, alpha=0.7, lw=2.0, \n",
    "                                           edgecolor='black', facecolor='None')\n",
    "    ax[0].add_patch(circ_chamber)\n",
    "    ax[0].add_patch(square_photonfocus)\n",
    "    circ_chamber = patches.Circle((XX/2, YY/2), curved_R_chamber, alpha=0.7, lw=2.0,\n",
    "                                  edgecolor='indianred', facecolor='None')\n",
    "    #     ## vertical flat sensor\n",
    "#     square_photonfocus = patches.Rectangle((XX/2-flat_height_curved_pix/2, YY/2-flat_size_curved_pix/2),\n",
    "#                                            flat_height_curved_pix, flat_size_curved_pix, alpha=0.7, lw=2.0, \n",
    "#                                            edgecolor='limegreen', facecolor='None')\n",
    "    ## horizontal flat sensor\n",
    "    square_photonfocus = patches.Rectangle((XX/2-flat_size_curved_pix/2, YY/2-flat_height_curved_pix/2),\n",
    "                                           flat_size_curved_pix, flat_height_curved_pix, alpha=0.7, lw=2.0, \n",
    "                                           edgecolor='limegreen', facecolor='None')\n",
    "    ax[1].add_patch(circ_chamber)\n",
    "    ax[1].add_patch(square_photonfocus)\n",
    "\n",
    "\n",
    "\n",
    "ax[0].set_title('Min value')\n",
    "ax[1].set_title('Max value')\n",
    "plt.tight_layout()\n",
    "plt.savefig(saving_path+Name0_curved+'_Gmin'+str(greyscale_min)+'_Gmax'+str(greyscale_max)+'.png', transparent=True)\n",
    "\n",
    "plt.show()"
   ]
  },
  {
   "cell_type": "code",
   "execution_count": 575,
   "id": "partial-annual",
   "metadata": {},
   "outputs": [
    {
     "name": "stdout",
     "output_type": "stream",
     "text": [
      "6.159014557670773 um per pixel\n",
      "Brute sigma range between 10 - 70\n"
     ]
    },
    {
     "data": {
      "application/vnd.jupyter.widget-view+json": {
       "model_id": "4727bac033f64bc4bd754da69e682205",
       "version_major": 2,
       "version_minor": 0
      },
      "text/plain": [
       "Canvas(toolbar=Toolbar(toolitems=[('Home', 'Reset original view', 'home', 'home'), ('Back', 'Back to previous …"
      ]
     },
     "metadata": {},
     "output_type": "display_data"
    }
   ],
   "source": [
    "\"\"\"\n",
    "\n",
    "\n",
    "Plot sigma (brute force method - With physical units)\n",
    "\n",
    "\n",
    "\"\"\"\n",
    "\n",
    "\n",
    "print((curved_pixel/curved_magnification), 'um per pixel')\n",
    "\n",
    "\n",
    "## Standardized range imposed for all plots\n",
    "min_brute_not_r = 10\n",
    "max_brute_not_r = 70\n",
    "\n",
    "\n",
    "plt.close()\n",
    "fig = plt.figure(figsize=(9,7))\n",
    "ax = fig.add_subplot(1, 1, 1)\n",
    "\n",
    "im = ax.imshow(Sigma_array_brute*(curved_pixel/curved_magnification), origin='lower', \n",
    "               cmap='magma_r', vmin=min_brute_not_r, vmax=max_brute_not_r) #, vmin=20  'inferno_r' , vmin=20, vmax=60\n",
    "\n",
    "if isFlat==False:\n",
    "    circ_chamber = patches.Circle((XX/2, YY/2), curved_R_chamber, alpha=0.7, lw=2.0,\n",
    "                                  edgecolor='limegreen', facecolor='None')\n",
    "    ax.add_patch(circ_chamber)\n",
    "    #     ## vertical flat sensor\n",
    "#     square_photonfocus = patches.Rectangle((XX/2-flat_height_curved_pix/2, YY/2-flat_size_curved_pix/2),\n",
    "#                                            flat_height_curved_pix, flat_size_curved_pix, alpha=0.7, lw=2.0, \n",
    "#                                            edgecolor='limegreen', facecolor='None')\n",
    "    ## horizontal flat sensor\n",
    "    square_photonfocus = patches.Rectangle((XX/2-flat_size_curved_pix/2, YY/2-flat_height_curved_pix/2),\n",
    "                                           flat_size_curved_pix, flat_height_curved_pix, alpha=0.7, lw=2.0, \n",
    "                                           edgecolor='limegreen', facecolor='None')\n",
    "    ax.add_patch(square_photonfocus)\n",
    "\n",
    "# circ_chamber = patches.Circle((XX/2, YY/2), curved_R_chamber, alpha=0.7, \n",
    "#                               edgecolor='limegreen', facecolor='None')\n",
    "# ax.add_patch(circ_chamber)\n",
    "# square_photonfocus = patches.Rectangle((XX/2-flat_size_curved_pix/2, YY/2-flat_size_curved_pix/2),\n",
    "#                                        flat_size_curved_pix, flat_size_curved_pix, alpha=0.7, \n",
    "#                                        edgecolor='black', facecolor='None')\n",
    "# ax.add_patch(square_photonfocus)\n",
    "\n",
    "# ax.set_title(' Sigma (blurring) in micrometers')\n",
    "# ax.set_xlabel('X [pixel]')\n",
    "# ax.set_ylabel('Y [pixel]')\n",
    "# divider = make_axes_locatable(ax)\n",
    "# cax = divider.append_axes('right', size='5%', pad=0.05)\n",
    "# fig.colorbar(im, cax=cax, orientation='vertical')\n",
    "Nticks = 6\n",
    "stepx = int(np.round(curved_width/(Nticks),0))\n",
    "Xlist = np.linspace(0,curved_width, curved_width)\n",
    "Xlist_mm = [i*curved_pixel*10**(-3) for i in Xlist] #- (curved_width*curved_pixel*10**(-3))/2\n",
    "Xlist_mm = Xlist_mm-max(Xlist_mm)/2 #max(Xlist_mm)/2+0.01\n",
    "Xticks_loc = [i*1.0/Nticks*curved_width for i in range(0,Nticks)]\n",
    "Xticks_loc.append(curved_width)\n",
    "Xticks_val = [np.round(Xlist_mm[i*stepx],1) for i in range(0,Nticks)]\n",
    "Xticks_val.append(np.round(Xlist_mm[-1],1))\n",
    "\n",
    "stepy = int(np.round(curved_height/(Nticks),0))\n",
    "Ylist = np.linspace(0,curved_height, curved_height)\n",
    "Ylist_mm = [i*curved_pixel*10**(-3) for i in Ylist]\n",
    "Ylist_mm = Ylist_mm-(max(Ylist_mm)/2)\n",
    "Yticks_loc = [i*1.0/Nticks*curved_height for i in range(0,Nticks)]\n",
    "Yticks_loc.append(curved_height)\n",
    "Yticks_val = [np.round(Ylist_mm[i*stepy],1) for i in range(0,Nticks)]\n",
    "Yticks_val.append(np.round(Ylist_mm[-1],1))\n",
    "\n",
    "ax.set_xticks(Xticks_loc)\n",
    "ax.set_xticklabels(Xticks_val, fontsize=14)\n",
    "ax.set_yticks(Yticks_loc)\n",
    "ax.set_yticklabels(Yticks_val, fontsize=14)\n",
    "\n",
    "ax.set_xlabel('X position [mm]', fontsize=16)\n",
    "ax.set_ylabel('Y position [mm]', fontsize=16)\n",
    "\n",
    "divider = make_axes_locatable(ax)\n",
    "cax = divider.append_axes('right', size='5%', pad=0.05)\n",
    "cbar = fig.colorbar(im, cax=cax, orientation='vertical')\n",
    "cbar.ax.tick_params(labelsize=14)\n",
    "\n",
    "plt.tight_layout()\n",
    "plt.savefig(saving_path+Name0_curved+'_UM_sigmasBrute_k'+str(curved_sobel_k)+'_mm_StandardScale.png', transparent=True)\n",
    "\n",
    "plt.show()\n"
   ]
  },
  {
   "cell_type": "code",
   "execution_count": 645,
   "id": "endangered-shannon",
   "metadata": {},
   "outputs": [
    {
     "data": {
      "application/vnd.jupyter.widget-view+json": {
       "model_id": "3d0c754802374e3cbf1f1b8ea53e847f",
       "version_major": 2,
       "version_minor": 0
      },
      "text/plain": [
       "i:   0%|          | 0/39 [00:00<?, ?it/s]"
      ]
     },
     "metadata": {},
     "output_type": "display_data"
    },
    {
     "data": {
      "application/vnd.jupyter.widget-view+json": {
       "model_id": "f1082f8045f347669418f6fc67136759",
       "version_major": 2,
       "version_minor": 0
      },
      "text/plain": [
       "j:   0%|          | 0/29 [00:00<?, ?it/s]"
      ]
     },
     "metadata": {},
     "output_type": "display_data"
    },
    {
     "data": {
      "application/vnd.jupyter.widget-view+json": {
       "model_id": "2345d2be8b9b477b9e0e9d7e2aa7f3fd",
       "version_major": 2,
       "version_minor": 0
      },
      "text/plain": [
       "j:   0%|          | 0/29 [00:00<?, ?it/s]"
      ]
     },
     "metadata": {},
     "output_type": "display_data"
    },
    {
     "data": {
      "application/vnd.jupyter.widget-view+json": {
       "model_id": "7ad21408ebed469bafdb050ebef121b8",
       "version_major": 2,
       "version_minor": 0
      },
      "text/plain": [
       "j:   0%|          | 0/29 [00:00<?, ?it/s]"
      ]
     },
     "metadata": {},
     "output_type": "display_data"
    },
    {
     "data": {
      "application/vnd.jupyter.widget-view+json": {
       "model_id": "133ca9678afe49a8af5bd25a8d89a1fe",
       "version_major": 2,
       "version_minor": 0
      },
      "text/plain": [
       "j:   0%|          | 0/29 [00:00<?, ?it/s]"
      ]
     },
     "metadata": {},
     "output_type": "display_data"
    },
    {
     "data": {
      "application/vnd.jupyter.widget-view+json": {
       "model_id": "78f3d97be58c4a9dbcc496b3bdb07855",
       "version_major": 2,
       "version_minor": 0
      },
      "text/plain": [
       "j:   0%|          | 0/29 [00:00<?, ?it/s]"
      ]
     },
     "metadata": {},
     "output_type": "display_data"
    },
    {
     "data": {
      "application/vnd.jupyter.widget-view+json": {
       "model_id": "12a5dbb893154adc9512734ec29636cd",
       "version_major": 2,
       "version_minor": 0
      },
      "text/plain": [
       "j:   0%|          | 0/29 [00:00<?, ?it/s]"
      ]
     },
     "metadata": {},
     "output_type": "display_data"
    },
    {
     "data": {
      "application/vnd.jupyter.widget-view+json": {
       "model_id": "9ecb279d763e4d9e897d1ad34ebc72a2",
       "version_major": 2,
       "version_minor": 0
      },
      "text/plain": [
       "j:   0%|          | 0/29 [00:00<?, ?it/s]"
      ]
     },
     "metadata": {},
     "output_type": "display_data"
    },
    {
     "data": {
      "application/vnd.jupyter.widget-view+json": {
       "model_id": "2cf4aea9df79454c9c4121a564b2dd3e",
       "version_major": 2,
       "version_minor": 0
      },
      "text/plain": [
       "j:   0%|          | 0/29 [00:00<?, ?it/s]"
      ]
     },
     "metadata": {},
     "output_type": "display_data"
    },
    {
     "data": {
      "application/vnd.jupyter.widget-view+json": {
       "model_id": "b45f969b9dd6437cb07052be415c9623",
       "version_major": 2,
       "version_minor": 0
      },
      "text/plain": [
       "j:   0%|          | 0/29 [00:00<?, ?it/s]"
      ]
     },
     "metadata": {},
     "output_type": "display_data"
    },
    {
     "data": {
      "application/vnd.jupyter.widget-view+json": {
       "model_id": "a516f1b54bd14a0b98afce3d100a203c",
       "version_major": 2,
       "version_minor": 0
      },
      "text/plain": [
       "j:   0%|          | 0/29 [00:00<?, ?it/s]"
      ]
     },
     "metadata": {},
     "output_type": "display_data"
    },
    {
     "data": {
      "application/vnd.jupyter.widget-view+json": {
       "model_id": "3e62ee2c4d4c4645a819e8bf66f4ff2d",
       "version_major": 2,
       "version_minor": 0
      },
      "text/plain": [
       "j:   0%|          | 0/29 [00:00<?, ?it/s]"
      ]
     },
     "metadata": {},
     "output_type": "display_data"
    },
    {
     "data": {
      "application/vnd.jupyter.widget-view+json": {
       "model_id": "fbb1c6f88919439e9876321855331ea1",
       "version_major": 2,
       "version_minor": 0
      },
      "text/plain": [
       "j:   0%|          | 0/29 [00:00<?, ?it/s]"
      ]
     },
     "metadata": {},
     "output_type": "display_data"
    },
    {
     "data": {
      "application/vnd.jupyter.widget-view+json": {
       "model_id": "751fe5d134aa4cbfb9e6cae20b34c90a",
       "version_major": 2,
       "version_minor": 0
      },
      "text/plain": [
       "j:   0%|          | 0/29 [00:00<?, ?it/s]"
      ]
     },
     "metadata": {},
     "output_type": "display_data"
    },
    {
     "data": {
      "application/vnd.jupyter.widget-view+json": {
       "model_id": "df62cb054aa7456588198c2ac5889c0e",
       "version_major": 2,
       "version_minor": 0
      },
      "text/plain": [
       "j:   0%|          | 0/29 [00:00<?, ?it/s]"
      ]
     },
     "metadata": {},
     "output_type": "display_data"
    },
    {
     "data": {
      "application/vnd.jupyter.widget-view+json": {
       "model_id": "d60ba6165b554e4ab447391592476cb6",
       "version_major": 2,
       "version_minor": 0
      },
      "text/plain": [
       "j:   0%|          | 0/29 [00:00<?, ?it/s]"
      ]
     },
     "metadata": {},
     "output_type": "display_data"
    },
    {
     "data": {
      "application/vnd.jupyter.widget-view+json": {
       "model_id": "c7be7eada04043cc8fde586e894a1bb6",
       "version_major": 2,
       "version_minor": 0
      },
      "text/plain": [
       "j:   0%|          | 0/29 [00:00<?, ?it/s]"
      ]
     },
     "metadata": {},
     "output_type": "display_data"
    },
    {
     "data": {
      "application/vnd.jupyter.widget-view+json": {
       "model_id": "febace64ca5b4b01ac51de13ee7d1f23",
       "version_major": 2,
       "version_minor": 0
      },
      "text/plain": [
       "j:   0%|          | 0/29 [00:00<?, ?it/s]"
      ]
     },
     "metadata": {},
     "output_type": "display_data"
    },
    {
     "data": {
      "application/vnd.jupyter.widget-view+json": {
       "model_id": "30700406e7874281a18d92aa981bfe63",
       "version_major": 2,
       "version_minor": 0
      },
      "text/plain": [
       "j:   0%|          | 0/29 [00:00<?, ?it/s]"
      ]
     },
     "metadata": {},
     "output_type": "display_data"
    },
    {
     "data": {
      "application/vnd.jupyter.widget-view+json": {
       "model_id": "0f9f207e57f147a2a000d7214558b6d1",
       "version_major": 2,
       "version_minor": 0
      },
      "text/plain": [
       "j:   0%|          | 0/29 [00:00<?, ?it/s]"
      ]
     },
     "metadata": {},
     "output_type": "display_data"
    },
    {
     "data": {
      "application/vnd.jupyter.widget-view+json": {
       "model_id": "4329f833118c4e1e8bcdccbdd44cb232",
       "version_major": 2,
       "version_minor": 0
      },
      "text/plain": [
       "j:   0%|          | 0/29 [00:00<?, ?it/s]"
      ]
     },
     "metadata": {},
     "output_type": "display_data"
    },
    {
     "data": {
      "application/vnd.jupyter.widget-view+json": {
       "model_id": "0ad5e0a226b8470cb6e206f86a3376ce",
       "version_major": 2,
       "version_minor": 0
      },
      "text/plain": [
       "j:   0%|          | 0/29 [00:00<?, ?it/s]"
      ]
     },
     "metadata": {},
     "output_type": "display_data"
    },
    {
     "data": {
      "application/vnd.jupyter.widget-view+json": {
       "model_id": "7120964db4324bd19450d698216bf2e1",
       "version_major": 2,
       "version_minor": 0
      },
      "text/plain": [
       "j:   0%|          | 0/29 [00:00<?, ?it/s]"
      ]
     },
     "metadata": {},
     "output_type": "display_data"
    },
    {
     "data": {
      "application/vnd.jupyter.widget-view+json": {
       "model_id": "97b3d9754b8c4bf0b41c80f3fc10802a",
       "version_major": 2,
       "version_minor": 0
      },
      "text/plain": [
       "j:   0%|          | 0/29 [00:00<?, ?it/s]"
      ]
     },
     "metadata": {},
     "output_type": "display_data"
    },
    {
     "data": {
      "application/vnd.jupyter.widget-view+json": {
       "model_id": "bf04841bc0d6413483cc4efead171bb7",
       "version_major": 2,
       "version_minor": 0
      },
      "text/plain": [
       "j:   0%|          | 0/29 [00:00<?, ?it/s]"
      ]
     },
     "metadata": {},
     "output_type": "display_data"
    },
    {
     "data": {
      "application/vnd.jupyter.widget-view+json": {
       "model_id": "d567f7cf5c014afe9714713395e6335c",
       "version_major": 2,
       "version_minor": 0
      },
      "text/plain": [
       "j:   0%|          | 0/29 [00:00<?, ?it/s]"
      ]
     },
     "metadata": {},
     "output_type": "display_data"
    },
    {
     "data": {
      "application/vnd.jupyter.widget-view+json": {
       "model_id": "f22360f1dee445098c3cc7c0f6ba661d",
       "version_major": 2,
       "version_minor": 0
      },
      "text/plain": [
       "j:   0%|          | 0/29 [00:00<?, ?it/s]"
      ]
     },
     "metadata": {},
     "output_type": "display_data"
    },
    {
     "data": {
      "application/vnd.jupyter.widget-view+json": {
       "model_id": "39dc24057ca54b26ac9b0f091c568468",
       "version_major": 2,
       "version_minor": 0
      },
      "text/plain": [
       "j:   0%|          | 0/29 [00:00<?, ?it/s]"
      ]
     },
     "metadata": {},
     "output_type": "display_data"
    },
    {
     "data": {
      "application/vnd.jupyter.widget-view+json": {
       "model_id": "d6ea83142e5e444989639d20abb2f726",
       "version_major": 2,
       "version_minor": 0
      },
      "text/plain": [
       "j:   0%|          | 0/29 [00:00<?, ?it/s]"
      ]
     },
     "metadata": {},
     "output_type": "display_data"
    },
    {
     "data": {
      "application/vnd.jupyter.widget-view+json": {
       "model_id": "8922342e679e432bb10f20bf603f44cb",
       "version_major": 2,
       "version_minor": 0
      },
      "text/plain": [
       "j:   0%|          | 0/29 [00:00<?, ?it/s]"
      ]
     },
     "metadata": {},
     "output_type": "display_data"
    },
    {
     "data": {
      "application/vnd.jupyter.widget-view+json": {
       "model_id": "4e95b393339b41b380510c96b160c2a9",
       "version_major": 2,
       "version_minor": 0
      },
      "text/plain": [
       "j:   0%|          | 0/29 [00:00<?, ?it/s]"
      ]
     },
     "metadata": {},
     "output_type": "display_data"
    },
    {
     "data": {
      "application/vnd.jupyter.widget-view+json": {
       "model_id": "e37e1cbc2978432480474d2fd9a24feb",
       "version_major": 2,
       "version_minor": 0
      },
      "text/plain": [
       "j:   0%|          | 0/29 [00:00<?, ?it/s]"
      ]
     },
     "metadata": {},
     "output_type": "display_data"
    },
    {
     "data": {
      "application/vnd.jupyter.widget-view+json": {
       "model_id": "a34e03857e424da89499602478f8705d",
       "version_major": 2,
       "version_minor": 0
      },
      "text/plain": [
       "j:   0%|          | 0/29 [00:00<?, ?it/s]"
      ]
     },
     "metadata": {},
     "output_type": "display_data"
    },
    {
     "data": {
      "application/vnd.jupyter.widget-view+json": {
       "model_id": "042e62a12e9f46efb725b9965e49a1c4",
       "version_major": 2,
       "version_minor": 0
      },
      "text/plain": [
       "j:   0%|          | 0/29 [00:00<?, ?it/s]"
      ]
     },
     "metadata": {},
     "output_type": "display_data"
    },
    {
     "data": {
      "application/vnd.jupyter.widget-view+json": {
       "model_id": "24333485530846da850387daeb5b3404",
       "version_major": 2,
       "version_minor": 0
      },
      "text/plain": [
       "j:   0%|          | 0/29 [00:00<?, ?it/s]"
      ]
     },
     "metadata": {},
     "output_type": "display_data"
    },
    {
     "data": {
      "application/vnd.jupyter.widget-view+json": {
       "model_id": "f4b880ad85f641dda4af1bd5b6f63c2e",
       "version_major": 2,
       "version_minor": 0
      },
      "text/plain": [
       "j:   0%|          | 0/29 [00:00<?, ?it/s]"
      ]
     },
     "metadata": {},
     "output_type": "display_data"
    },
    {
     "data": {
      "application/vnd.jupyter.widget-view+json": {
       "model_id": "9794f462a915413fa6f252adbf43d65b",
       "version_major": 2,
       "version_minor": 0
      },
      "text/plain": [
       "j:   0%|          | 0/29 [00:00<?, ?it/s]"
      ]
     },
     "metadata": {},
     "output_type": "display_data"
    },
    {
     "data": {
      "application/vnd.jupyter.widget-view+json": {
       "model_id": "43039e4d35a44fad99374953c3858fef",
       "version_major": 2,
       "version_minor": 0
      },
      "text/plain": [
       "j:   0%|          | 0/29 [00:00<?, ?it/s]"
      ]
     },
     "metadata": {},
     "output_type": "display_data"
    },
    {
     "data": {
      "application/vnd.jupyter.widget-view+json": {
       "model_id": "bff2c11d3f1a44eebf74b82649e8c766",
       "version_major": 2,
       "version_minor": 0
      },
      "text/plain": [
       "j:   0%|          | 0/29 [00:00<?, ?it/s]"
      ]
     },
     "metadata": {},
     "output_type": "display_data"
    },
    {
     "data": {
      "application/vnd.jupyter.widget-view+json": {
       "model_id": "9e9d15de069d4ca99887e77291662dd1",
       "version_major": 2,
       "version_minor": 0
      },
      "text/plain": [
       "j:   0%|          | 0/29 [00:00<?, ?it/s]"
      ]
     },
     "metadata": {},
     "output_type": "display_data"
    }
   ],
   "source": [
    "\"\"\"\n",
    "\n",
    "\n",
    "Rolling sobel\n",
    "\n",
    "\n",
    "\"\"\"\n",
    "\n",
    "cell_x, cell_y = curved_cell_x, curved_cell_y\n",
    "width, start, kk = width_0_curved, start_0_curved, curved_sobel_k\n",
    "\n",
    "MinNotMasked = int(0.5*cell_x*cell_y)\n",
    "\n",
    "### *******************************************************************************************************\n",
    "\n",
    "\n",
    "Nx, Ny = SeparateInCells(focus_im, cell_x, cell_y)\n",
    "\n",
    "rGreyscale_array = np.zeros(focus_im.shape)\n",
    "rGreyscale_array[:] = np.nan\n",
    "rSigma_array_brute = np.zeros(focus_im.shape)\n",
    "rSigma_array_brute[:] = np.nan\n",
    "\n",
    "rsobelMax_array = np.zeros(focus_im.shape)\n",
    "rsobelMax_array[:] = np.nan\n",
    "\n",
    "rstd = np.zeros(focus_im.shape)\n",
    "rstd[:] = np.nan\n",
    "\n",
    "rGmin_array = np.zeros(focus_im.shape)\n",
    "rGmin_array[:] = np.nan\n",
    "rGmax_array = np.zeros(focus_im.shape)\n",
    "rGmax_array[:] = np.nan\n",
    "\n",
    "\n",
    "try:\n",
    "    for i in tnrange(0, (XX-2*shiftN), shiftN, desc='i'):\n",
    "        for j in tnrange(0, (YY-2*shiftN), shiftN, desc='j'):\n",
    "#             print(f'i={i}, j={j}')\n",
    "            x_start, x_end = i, i+cell_x\n",
    "            y_start, y_end = j, j+cell_y\n",
    "            cell = focus_im[y_start:y_end, x_start:x_end]\n",
    "            cell_whole = cell\n",
    "            cell_sobel = focus_sobel[y_start:y_end, x_start:x_end]\n",
    "            if maskChamber:\n",
    "                allMasked = cell.mask.all()\n",
    "                cell = cell.compressed()\n",
    "                cell_sobel = cell_sobel.compressed()\n",
    "            else:\n",
    "                allMasked = False\n",
    "            \n",
    "            if allMasked:\n",
    "                gg = np.nan\n",
    "                sobel_M = np.nan\n",
    "                best_sigma = np.nan\n",
    "                sigma = np.nan\n",
    "                new_min = np.nan\n",
    "                new_max = np.nan\n",
    "                std_val = np.nan\n",
    "            elif cell_whole.count() < MinNotMasked:\n",
    "#                 print(f'Deleting cell ({nx},{ny})')\n",
    "                gg = np.nan\n",
    "                sobel_M = np.nan\n",
    "                best_sigma = np.nan\n",
    "                sigma = np.nan\n",
    "                new_min = np.nan\n",
    "                new_max = np.nan\n",
    "                std_val = np.nan\n",
    "            \n",
    "            else:\n",
    "                ## Get standard deviation of pixels in each cells\n",
    "                std_val = np.std(cell)\n",
    "            \n",
    "                ## Get max sobel for this cell (~0.5% of the max to avoid dust)\n",
    "                sobel_M = GetNMax_perc(cell_sobel, sobel_max)\n",
    "                ## Get greyscale of cell (% of max, avoid dust)\n",
    "                flattened_cell = cell.flatten()\n",
    "                new_min_prev, new_max_prev = new_min, new_max\n",
    "                if len(flattened_cell)<=((cell_x+1)*(cell_y+1)):\n",
    "                    new_min, new_max = Min_Perc(cell, greyscale_min), Max_Perc(cell, greyscale_max)\n",
    "                else:\n",
    "                    new_min, new_max = Min_Perc(cell, greyscale_min_largeCell), Max_Perc(cell, greyscale_max)\n",
    "        \n",
    "                if isFlat:\n",
    "                    if new_min>2000:\n",
    "                        new_min = new_min_prev\n",
    "                    gg = (new_max - new_min)/(2**12-120)\n",
    "                else:\n",
    "                    gg = (new_max - new_min)/(curved_white_level-120)\n",
    "                    \n",
    "                if gg<greyscale_sigma_min:\n",
    "                    ## Brute force best sigma (more reliable, slower)\n",
    "                    best_sigma, sobel_diff = FindBestSigma(sobel_M, im_perfect_curved_sub, new_min, new_max, width, start, kk)\n",
    "                else:\n",
    "                    ## Brute force best sigma (more reliable, slower)\n",
    "                    best_sigma, sobel_diff = FindBestSigma(sobel_M, im_perfect_curved_sub, new_min, new_max, width, start, kk)\n",
    "\n",
    "            ## Now populate arrays\n",
    "            xmid, ymid = int(i+cell_x/2), int(j+cell_y/2)\n",
    "            rxstart, rxend = int(xmid-shiftN/2), int(xmid+shiftN/2)\n",
    "            rystart, ryend = int(ymid-shiftN/2), int(ymid+shiftN/2)\n",
    "        \n",
    "            rGreyscale_array[rystart:ryend,rxstart:rxend] = gg\n",
    "            rsobelMax_array[rystart:ryend,rxstart:rxend] = sobel_M\n",
    "            rSigma_array_brute[rystart:ryend,rxstart:rxend] = best_sigma\n",
    "            rGmin_array[rystart:ryend,rxstart:rxend] = new_min\n",
    "            rGmax_array[rystart:ryend,rxstart:rxend] = new_max\n",
    "            rstd[rystart:ryend,rxstart:rxend] = std_val\n",
    "except KeyboardInterrupt:  \n",
    "#     pass\n",
    "    pbar.close()"
   ]
  },
  {
   "cell_type": "code",
   "execution_count": null,
   "id": "double-mercury",
   "metadata": {},
   "outputs": [],
   "source": []
  },
  {
   "cell_type": "code",
   "execution_count": 646,
   "id": "ancient-residence",
   "metadata": {},
   "outputs": [],
   "source": [
    "\"\"\"\n",
    "\n",
    "Save results from rolling cell method\n",
    "\n",
    "\"\"\"\n",
    "\n",
    "np.save(saving_path+Name0_curved+'_r_sigmabrute.npy', rSigma_array_brute)\n",
    "np.save(saving_path+Name0_curved+'_r_greyscale.npy', rGreyscale_array)\n",
    "np.save(saving_path+Name0_curved+'_r_sobelMax.npy', rsobelMax_array)\n",
    "np.save(saving_path+Name0_curved+'_r_Gmin.npy', rGmin_array)\n",
    "np.save(saving_path+Name0_curved+'_r_Gmax.npy', rGmax_array)"
   ]
  },
  {
   "cell_type": "code",
   "execution_count": 647,
   "id": "considerable-slave",
   "metadata": {},
   "outputs": [
    {
     "data": {
      "application/vnd.jupyter.widget-view+json": {
       "model_id": "1ae4146f23034d0fb0534b60f92e2db9",
       "version_major": 2,
       "version_minor": 0
      },
      "text/plain": [
       "  0%|          | 0/12 [00:00<?, ?it/s]"
      ]
     },
     "metadata": {},
     "output_type": "display_data"
    },
    {
     "data": {
      "application/vnd.jupyter.widget-view+json": {
       "model_id": "dadef6ffa1a34f34907180fe29db240d",
       "version_major": 2,
       "version_minor": 0
      },
      "text/plain": [
       "  0%|          | 0/9 [00:00<?, ?it/s]"
      ]
     },
     "metadata": {},
     "output_type": "display_data"
    },
    {
     "data": {
      "application/vnd.jupyter.widget-view+json": {
       "model_id": "3dc50d7a440648249b4f99e0f83c3702",
       "version_major": 2,
       "version_minor": 0
      },
      "text/plain": [
       "  0%|          | 0/9 [00:00<?, ?it/s]"
      ]
     },
     "metadata": {},
     "output_type": "display_data"
    },
    {
     "data": {
      "application/vnd.jupyter.widget-view+json": {
       "model_id": "0c7a224e11444bf489fe45d27f18db91",
       "version_major": 2,
       "version_minor": 0
      },
      "text/plain": [
       "  0%|          | 0/9 [00:00<?, ?it/s]"
      ]
     },
     "metadata": {},
     "output_type": "display_data"
    },
    {
     "data": {
      "application/vnd.jupyter.widget-view+json": {
       "model_id": "cc75ae00a9af4c01b0fd4320e9a5728b",
       "version_major": 2,
       "version_minor": 0
      },
      "text/plain": [
       "  0%|          | 0/9 [00:00<?, ?it/s]"
      ]
     },
     "metadata": {},
     "output_type": "display_data"
    },
    {
     "data": {
      "application/vnd.jupyter.widget-view+json": {
       "model_id": "2e858a6dc01f462581a1a81ceb182c2b",
       "version_major": 2,
       "version_minor": 0
      },
      "text/plain": [
       "  0%|          | 0/9 [00:00<?, ?it/s]"
      ]
     },
     "metadata": {},
     "output_type": "display_data"
    },
    {
     "data": {
      "application/vnd.jupyter.widget-view+json": {
       "model_id": "8c9bc4106f2243e2ac96a47723a5ee99",
       "version_major": 2,
       "version_minor": 0
      },
      "text/plain": [
       "  0%|          | 0/9 [00:00<?, ?it/s]"
      ]
     },
     "metadata": {},
     "output_type": "display_data"
    },
    {
     "data": {
      "application/vnd.jupyter.widget-view+json": {
       "model_id": "2102bd591f2c48caa8032cd32118b4e2",
       "version_major": 2,
       "version_minor": 0
      },
      "text/plain": [
       "  0%|          | 0/9 [00:00<?, ?it/s]"
      ]
     },
     "metadata": {},
     "output_type": "display_data"
    },
    {
     "data": {
      "application/vnd.jupyter.widget-view+json": {
       "model_id": "0d826ca828694baabf8056f370a3ad4c",
       "version_major": 2,
       "version_minor": 0
      },
      "text/plain": [
       "  0%|          | 0/9 [00:00<?, ?it/s]"
      ]
     },
     "metadata": {},
     "output_type": "display_data"
    },
    {
     "data": {
      "application/vnd.jupyter.widget-view+json": {
       "model_id": "1b2eda8fa0274b919f447ac26edfd968",
       "version_major": 2,
       "version_minor": 0
      },
      "text/plain": [
       "  0%|          | 0/9 [00:00<?, ?it/s]"
      ]
     },
     "metadata": {},
     "output_type": "display_data"
    },
    {
     "data": {
      "application/vnd.jupyter.widget-view+json": {
       "model_id": "e429648957d5440fb9b176762955f409",
       "version_major": 2,
       "version_minor": 0
      },
      "text/plain": [
       "  0%|          | 0/9 [00:00<?, ?it/s]"
      ]
     },
     "metadata": {},
     "output_type": "display_data"
    },
    {
     "data": {
      "application/vnd.jupyter.widget-view+json": {
       "model_id": "3e83fc64a721456c8ca340968b4ef353",
       "version_major": 2,
       "version_minor": 0
      },
      "text/plain": [
       "  0%|          | 0/9 [00:00<?, ?it/s]"
      ]
     },
     "metadata": {},
     "output_type": "display_data"
    },
    {
     "data": {
      "application/vnd.jupyter.widget-view+json": {
       "model_id": "6a81d173d7c746058d06dec9358e57b1",
       "version_major": 2,
       "version_minor": 0
      },
      "text/plain": [
       "  0%|          | 0/9 [00:00<?, ?it/s]"
      ]
     },
     "metadata": {},
     "output_type": "display_data"
    }
   ],
   "source": [
    "\"\"\"\n",
    "\n",
    "Separate in cells\n",
    "\n",
    "\n",
    "\"\"\"\n",
    "\n",
    "\n",
    "# if isFlat:\n",
    "#     sobel_max = 0.005\n",
    "# else:\n",
    "#     sobel_max = 0.02\n",
    "# greyscale_min, greyscale_max = 0.0005, 0.001 #0.00014\n",
    "# greyscale_min_largeCell = 0.00007\n",
    "\n",
    "## *******************************************************************************************************\n",
    "\n",
    "\n",
    "Nx, Ny = SeparateInCells(focus_im, cell_x, cell_y)\n",
    "\n",
    "Greyscale_array = np.zeros(focus_im.shape)\n",
    "Sigma_array_fit = np.zeros(focus_im.shape)\n",
    "Sigma_array_brute = np.zeros(focus_im.shape)\n",
    "# sobelDiff_array = np.zeros(focus_im.shape)\n",
    "sobelMax_array = np.zeros(focus_im.shape)\n",
    "\n",
    "Gmin_array = np.zeros(focus_im.shape)\n",
    "Gmax_array = np.zeros(focus_im.shape)\n",
    "\n",
    "std_array = np.zeros(focus_im.shape)\n",
    "\n",
    "for nx in tnrange(0,Nx):\n",
    "    for ny in tnrange(0,Ny):\n",
    "        cell = GetCell(focus_im, nx, ny, cell_x, cell_y, Nx, Ny)\n",
    "        cell_whole = cell\n",
    "        cell_sobel = GetCell(focus_sobel, nx, ny, cell_x, cell_y, Nx, Ny)\n",
    "        if maskChamber:\n",
    "            allMasked = cell.mask.all()\n",
    "            cell = cell.compressed()\n",
    "            cell_sobel = cell_sobel.compressed()\n",
    "        else:\n",
    "            allMasked = False\n",
    "            \n",
    "        if allMasked:\n",
    "            gg = np.nan\n",
    "            sobel_M = np.nan\n",
    "            best_sigma = np.nan\n",
    "            sigma = np.nan\n",
    "            new_min = np.nan\n",
    "            new_max = np.nan\n",
    "            std_val = np.nan\n",
    "        elif cell_whole.count() < MinNotMasked:\n",
    "#             print(f'Deleting cell ({nx},{ny})')\n",
    "            gg = np.nan\n",
    "            sobel_M = np.nan\n",
    "            best_sigma = np.nan\n",
    "            sigma = np.nan\n",
    "            new_min = np.nan\n",
    "            new_max = np.nan\n",
    "            std_val = np.nan\n",
    "            \n",
    "        else:\n",
    "            std_val = np.std(cell)\n",
    "            ## Get max sobel for this cell (~0.5% of the max to avoid dust)\n",
    "            sobel_M = GetNMax_perc(cell_sobel, sobel_max)\n",
    "            ## Get greyscale of cell (% of max, avoid dust)\n",
    "            flattened_cell = cell.flatten()\n",
    "            \n",
    "            if len(flattened_cell)<=((cell_x+1)*(cell_y+1)):\n",
    "                new_min, new_max = Min_Perc(cell, greyscale_min), Max_Perc(cell, greyscale_max)\n",
    "            else:\n",
    "                new_min, new_max = Min_Perc(cell, greyscale_min_largeCell), Max_Perc(cell, greyscale_max)\n",
    "                \n",
    "\n",
    "            if isFlat:\n",
    "                gg = (new_max - new_min)/(2**12-120)\n",
    "            else:\n",
    "                gg = (new_max - new_min)/(curved_white_level-120)\n",
    "#             if gg<greyscale_sigma_min:\n",
    "#                 if new_max<white_min or std_val<std_min:\n",
    "#                     best_sigma = np.nan\n",
    "#                     sigma = np.nan\n",
    "#                 else:\n",
    "#                     sigma = SigmaFromFit(sobel_M, gg)\n",
    "#                     ## Get best sigma fit with this new greyscale by artificallt blurring a theoretical image\n",
    "#                     best_sigma, sobel_diff = FindBestSigma(sobel_M, im_perfect_curved_sub, new_min, new_max, width, start, kk)\n",
    "#             else:\n",
    "\n",
    "\n",
    "            ## if white level too low (too dark), or if the std is too small (no feature), can't compute the sigma\n",
    "            if new_max<white_min:# or std_val<std_min:\n",
    "                best_sigma = np.nan\n",
    "                sigma = np.nan\n",
    "            else:\n",
    "                sigma = SigmaFromFit(sobel_M, gg)\n",
    "                ## Get best sigma fit with this new greyscale by artificallt blurring a theoretical image\n",
    "                best_sigma, sobel_diff = FindBestSigma(sobel_M, im_perfect_curved_sub, new_min, new_max, width, start, kk)\n",
    "\n",
    "    #         Greyscale = new_max - new_min\n",
    "    #         Greyscale = MichelsonContrast(focus_im)\n",
    "    #         Greyscale = Range_Perc(cell, 0.01)\n",
    "    #         Greyscale = Max_Perc(cell, 0.01)\n",
    "    #         sigma = GetSigma(sobel_M, Michelson, a, b, c, m, n, d)\n",
    "\n",
    "        for ii in range(0,len(cell_whole[0,:])):\n",
    "                for jj in range(0,len(cell_whole[:,0])):\n",
    "                    working_x = cell_x*nx + ii\n",
    "                    working_y = cell_y*ny + jj\n",
    "                    Greyscale_array[working_y, working_x] = gg\n",
    "                    sobelMax_array[working_y, working_x] = sobel_M\n",
    "                    Sigma_array_brute[working_y, working_x] = best_sigma\n",
    "                    Sigma_array_fit[working_y, working_x] = sigma\n",
    "                    Gmin_array[working_y, working_x] = new_min\n",
    "                    Gmax_array[working_y, working_x] = new_max\n",
    "                    std_array[working_y, working_x] = std_val"
   ]
  },
  {
   "cell_type": "code",
   "execution_count": 648,
   "id": "square-hawaiian",
   "metadata": {},
   "outputs": [
    {
     "data": {
      "application/vnd.jupyter.widget-view+json": {
       "model_id": "a9f98b4126a04170a1035692f6121c21",
       "version_major": 2,
       "version_minor": 0
      },
      "text/plain": [
       "Canvas(toolbar=Toolbar(toolitems=[('Home', 'Reset original view', 'home', 'home'), ('Back', 'Back to previous …"
      ]
     },
     "metadata": {},
     "output_type": "display_data"
    }
   ],
   "source": [
    "\"\"\"\n",
    "\n",
    "\n",
    "\n",
    "Plot a single figure with everything all at once\n",
    "\n",
    "\n",
    "\n",
    "\n",
    "\"\"\"\n",
    "ff_title = 32\n",
    "ff_labels = 26\n",
    "ff_letters = 40\n",
    "\n",
    "cell_x, cell_y = curved_cell_x, curved_cell_y\n",
    "Nx, Ny = SeparateInCells(focus_im, cell_x, cell_y)\n",
    "\n",
    "# vmax_sobel = 0.45 ## Flat\n",
    "vmax_sobel = 0.08 ## Curved\n",
    "# vmax_sobel = 0.13 ## Curved\n",
    "# vmax_sobel = 0.03 ## Curved in vivo\n",
    "# vmax_sobel = 0.003 ## Flat in vivo\n",
    "\n",
    "# Nticks = 6\n",
    "# stepx = int(np.round(curved_width/(Nticks),0))\n",
    "# Xlist = np.linspace(0,curved_width, curved_width)\n",
    "# Xlist_mm = [i*curved_pixel*10**(-3) for i in Xlist] #- (curved_width*curved_pixel*10**(-3))/2\n",
    "# Xlist_mm = Xlist_mm-max(Xlist_mm)/2 #max(Xlist_mm)/2+0.01\n",
    "# Xticks_loc = [i*1.0/Nticks*curved_width for i in range(0,Nticks)]\n",
    "# Xticks_loc.append(curved_width)\n",
    "# Xticks_val = [np.round(Xlist_mm[i*stepx],1) for i in range(0,Nticks)]\n",
    "# Xticks_val.append(np.round(Xlist_mm[-1],1))\n",
    "\n",
    "# stepy = int(np.round(curved_height/(Nticks),0))\n",
    "# Ylist = np.linspace(0,curved_height, curved_height)\n",
    "# Ylist_mm = [i*curved_pixel*10**(-3) for i in Ylist]\n",
    "# Ylist_mm = Ylist_mm-(max(Ylist_mm)/2)\n",
    "# Yticks_loc = [i*1.0/Nticks*curved_height for i in range(0,Nticks)]\n",
    "# Yticks_loc.append(curved_height)\n",
    "# Yticks_val = [np.round(Ylist_mm[i*stepy],1) for i in range(0,Nticks)]\n",
    "# Yticks_val.append(np.round(Ylist_mm[-1],1))\n",
    "\n",
    "Nticks = 6\n",
    "stepx = int(np.round(curved_width/(Nticks),0))\n",
    "Xlist = np.linspace(0,curved_width, curved_width)\n",
    "Xlist_mm = [i*curved_pixel/curved_magnification*10**(-3) for i in Xlist] #- (curved_width*curved_pixel*10**(-3))/2\n",
    "Xlist_mm = Xlist_mm-max(Xlist_mm)/2 #max(Xlist_mm)/2+0.01\n",
    "Xticks_loc = [i*1.0/Nticks*curved_width for i in range(0,Nticks)]\n",
    "Xticks_loc.append(curved_width)\n",
    "Xticks_val = [np.round(Xlist_mm[i*stepx],1) for i in range(0,Nticks)]\n",
    "Xticks_val.append(np.round(Xlist_mm[-1],1))\n",
    "\n",
    "stepy = int(np.round(curved_height/(Nticks),0))\n",
    "Ylist = np.linspace(0,curved_height, curved_height)\n",
    "Ylist_mm = [i*curved_pixel/curved_magnification*10**(-3) for i in Ylist]\n",
    "Ylist_mm = Ylist_mm-(max(Ylist_mm)/2)\n",
    "Yticks_loc = [i*1.0/Nticks*curved_height for i in range(0,Nticks)]\n",
    "Yticks_loc.append(curved_height)\n",
    "Yticks_val = [np.round(Ylist_mm[i*stepy],1) for i in range(0,Nticks)]\n",
    "Yticks_val.append(np.round(Ylist_mm[-1],1))\n",
    "\n",
    "\n",
    "\n",
    "plt.close()\n",
    "\n",
    "## Large\n",
    "fig, ax = plt.subplots(2,3, figsize=(25, 12))\n",
    "## Smaller (paper)\n",
    "# fig, ax = plt.subplots(2,3, figsize=(15, 9))\n",
    "\n",
    "## IMAGE\n",
    "im00 = ax[0,0].imshow(focus_im, origin='lower', cmap='gray') #,vmin=0.0, vmax=1.0\n",
    "ax[0,0].set_title('A', fontsize=ff_letters, loc='left', fontweight='bold')\n",
    "\n",
    "(YY, XX) = focus_im.shape\n",
    "for nx in range(0,Nx-1):\n",
    "    x_pos = cell_x*(nx+1)\n",
    "    ax[0,0].vlines(x_pos, ymin=0, ymax=(YY-1), colors='blue', lw=0.5, alpha=0.5)\n",
    "\n",
    "for ny in range(0,Ny-1):\n",
    "    y_pos = cell_y*(ny+1)\n",
    "    ax[0,0].hlines(y_pos, xmin=0, xmax=(XX-1), colors='blue', lw=0.5, alpha=0.5)\n",
    "    \n",
    "if isFlat==False:\n",
    "    circ_chamber = patches.Circle((XX/2, YY/2), curved_R_chamber, alpha=0.7, lw=2.0,\n",
    "                                  edgecolor='indianred', facecolor='None')\n",
    "    ax[0,0].add_patch(circ_chamber)\n",
    "    ## horizontal flat sensor\n",
    "    square_photonfocus = patches.Rectangle((XX/2-flat_size_curved_pix/2, YY/2-flat_height_curved_pix/2),\n",
    "                                           flat_size_curved_pix, flat_height_curved_pix, alpha=0.7, lw=2.0, \n",
    "                                           edgecolor='limegreen', facecolor='None')\n",
    "    ax[0,0].add_patch(square_photonfocus)\n",
    "\n",
    "ax[0,0].set_xticks(Xticks_loc)\n",
    "ax[0,0].set_xticklabels(Xticks_val, fontsize=ff_labels)\n",
    "ax[0,0].set_yticks(Yticks_loc)\n",
    "ax[0,0].set_yticklabels(Yticks_val, fontsize=ff_labels)\n",
    "\n",
    "# ax[0,0].set_xlabel('X position [mm]', fontsize=ff_title)\n",
    "ax[0,0].set_ylabel('Y position [mm]', fontsize=ff_title)\n",
    "\n",
    "divider = make_axes_locatable(ax[0,0])\n",
    "cax = divider.append_axes('right', size='5%', pad=0.05)\n",
    "cbar = fig.colorbar(im00, cax=cax, orientation='vertical')\n",
    "cbar.ax.tick_params(labelsize=ff_labels)\n",
    "\n",
    "\n",
    "\n",
    "## SOBEL\n",
    "\n",
    "im01 = ax[0,1].imshow(focus_sobel, origin='lower', cmap='jet', vmax=vmax_sobel) #,vmin=0.0, vmax=1.0\n",
    "ax[0,1].set_title('B', fontsize=ff_letters, loc='left', fontweight='bold')\n",
    "\n",
    "(YY, XX) = focus_sobel.shape\n",
    "for nx in range(0,Nx-1):\n",
    "    x_pos = cell_x*(nx+1)\n",
    "    ax[0,1].vlines(x_pos, ymin=0, ymax=(YY-1), lw=0.5, alpha=1.0)\n",
    "\n",
    "for ny in range(0,Ny-1):\n",
    "    y_pos = cell_y*(ny+1)\n",
    "    ax[0,1].hlines(y_pos, xmin=0, xmax=(XX-1), lw=0.5, alpha=1.0)\n",
    "    \n",
    "\n",
    "if isFlat==False:\n",
    "    circ_chamber = patches.Circle((XX/2, YY/2), curved_R_chamber, alpha=0.7, lw=2.0,\n",
    "                                  edgecolor='indianred', facecolor='None')\n",
    "    ax[0,1].add_patch(circ_chamber)\n",
    "    ## horizontal flat sensor\n",
    "    square_photonfocus = patches.Rectangle((XX/2-flat_size_curved_pix/2, YY/2-flat_height_curved_pix/2),\n",
    "                                           flat_size_curved_pix, flat_height_curved_pix, alpha=0.7, lw=2.0, \n",
    "                                           edgecolor='limegreen', facecolor='None')\n",
    "    ax[0,1].add_patch(square_photonfocus)\n",
    "\n",
    "\n",
    "ax[0,1].set_xticks(Xticks_loc)\n",
    "ax[0,1].set_xticklabels(Xticks_val, fontsize=ff_labels)\n",
    "ax[0,1].set_yticks(Yticks_loc)\n",
    "ax[0,1].set_yticklabels(Yticks_val, fontsize=ff_labels)\n",
    "\n",
    "# ax[0,1].set_xlabel('X position [mm]', fontsize=ff_title)\n",
    "# ax[0,1].set_ylabel('Y position [mm]', fontsize=ff_title)\n",
    "\n",
    "divider = make_axes_locatable(ax[0,1])\n",
    "cax = divider.append_axes('right', size='5%', pad=0.05)\n",
    "cbar = fig.colorbar(im01, cax=cax, orientation='vertical')\n",
    "cbar.ax.tick_params(labelsize=ff_labels)\n",
    "\n",
    "\n",
    "\n",
    "# MAX SOBEL\n",
    "im02 = ax[0,2].imshow(sobelMax_array, origin='lower', cmap='jet')\n",
    "ax[0,2].set_title('C', fontsize=ff_letters, loc='left', fontweight='bold')\n",
    "\n",
    "if isFlat==False:\n",
    "    circ_chamber = patches.Circle((XX/2, YY/2), curved_R_chamber, alpha=0.7, lw=2.0,\n",
    "                                  edgecolor='indianred', facecolor='None')\n",
    "    ax[0,2].add_patch(circ_chamber)\n",
    "    ## horizontal flat sensor\n",
    "    square_photonfocus = patches.Rectangle((XX/2-flat_size_curved_pix/2, YY/2-flat_height_curved_pix/2),\n",
    "                                           flat_size_curved_pix, flat_height_curved_pix, alpha=0.7, lw=2.0, \n",
    "                                           edgecolor='limegreen', facecolor='None')\n",
    "    ax[0,2].add_patch(square_photonfocus)\n",
    "\n",
    "ax[0,2].set_xticks(Xticks_loc)\n",
    "ax[0,2].set_xticklabels(Xticks_val, fontsize=ff_labels)\n",
    "ax[0,2].set_yticks(Yticks_loc)\n",
    "ax[0,2].set_yticklabels(Yticks_val, fontsize=ff_labels)\n",
    "\n",
    "# ax[0,2].set_xlabel('X position [mm]', fontsize=ff_title)\n",
    "# ax[0,2].set_ylabel('Y position [mm]', fontsize=ff_title)\n",
    "\n",
    "divider = make_axes_locatable(ax[0,2])\n",
    "cax = divider.append_axes('right', size='5%', pad=0.05)\n",
    "cbar = fig.colorbar(im02, cax=cax, orientation='vertical')\n",
    "cbar.ax.tick_params(labelsize=ff_labels)\n",
    "\n",
    "\n",
    "## Greyscale\n",
    "im10 = ax[1,0].imshow(Greyscale_array, origin='lower', cmap='gray'  ) #,vmin=0.0, vmax=1.0, vmin=0.0, vmax=0.35\n",
    "ax[1,0].set_title('D', fontsize=ff_letters, loc='left', fontweight='bold')\n",
    "\n",
    "if isFlat==False:\n",
    "    circ_chamber = patches.Circle((XX/2, YY/2), curved_R_chamber, alpha=0.7, lw=2.0,\n",
    "                                  edgecolor='indianred', facecolor='None')\n",
    "    ax[1,0].add_patch(circ_chamber)\n",
    "    ## horizontal flat sensor\n",
    "    square_photonfocus = patches.Rectangle((XX/2-flat_size_curved_pix/2, YY/2-flat_height_curved_pix/2),\n",
    "                                           flat_size_curved_pix, flat_height_curved_pix, alpha=0.7, lw=2.0, \n",
    "                                           edgecolor='limegreen', facecolor='None')\n",
    "    ax[1,0].add_patch(square_photonfocus)\n",
    "\n",
    "\n",
    "ax[1,0].set_xticks(Xticks_loc)\n",
    "ax[1,0].set_xticklabels(Xticks_val, fontsize=ff_labels)\n",
    "ax[1,0].set_yticks(Yticks_loc)\n",
    "ax[1,0].set_yticklabels(Yticks_val, fontsize=ff_labels)\n",
    "\n",
    "ax[1,0].set_xlabel('X position [mm]', fontsize=ff_title)\n",
    "ax[1,0].set_ylabel('Y position [mm]', fontsize=ff_title)\n",
    "\n",
    "divider = make_axes_locatable(ax[1,0])\n",
    "cax = divider.append_axes('right', size='5%', pad=0.05)\n",
    "cbar = fig.colorbar(im10, cax=cax, orientation='vertical')\n",
    "cbar.ax.tick_params(labelsize=ff_labels)\n",
    "\n",
    "\n",
    "\n",
    "## Sigma\n",
    "\n",
    "vmin_sigma = 35\n",
    "vmax_sigma = 90\n",
    "\n",
    "\n",
    "im11 = ax[1,1].imshow(Sigma_array_brute*(curved_pixel/curved_magnification), origin='lower', cmap='magma_r', vmin=vmin_sigma, vmax=vmax_sigma) #,vmin=1.0,vmax=10\n",
    "ax[1,1].set_title('E', fontsize=ff_letters, loc='left', fontweight='bold')\n",
    "\n",
    "if isFlat==False:\n",
    "    circ_chamber = patches.Circle((XX/2, YY/2), curved_R_chamber, alpha=0.7, lw=2.0,\n",
    "                                  edgecolor='limegreen', facecolor='None')\n",
    "    ax[1,1].add_patch(circ_chamber)\n",
    "    ## horizontal flat sensor\n",
    "    square_photonfocus = patches.Rectangle((XX/2-flat_size_curved_pix/2, YY/2-flat_height_curved_pix/2),\n",
    "                                           flat_size_curved_pix, flat_height_curved_pix, alpha=0.7, lw=2.0, \n",
    "                                           edgecolor='limegreen', facecolor='None')\n",
    "    ax[1,1].add_patch(square_photonfocus)\n",
    "\n",
    "ax[1,1].set_xticks(Xticks_loc)\n",
    "ax[1,1].set_xticklabels(Xticks_val, fontsize=ff_labels)\n",
    "ax[1,1].set_yticks(Yticks_loc)\n",
    "ax[1,1].set_yticklabels(Yticks_val, fontsize=ff_labels)\n",
    "\n",
    "ax[1,1].set_xlabel('X position [mm]', fontsize=ff_title)\n",
    "# ax[1,1].set_ylabel('Y position [mm]', fontsize=ff_title)\n",
    "\n",
    "divider = make_axes_locatable(ax[1,1])\n",
    "cax = divider.append_axes('right', size='5%', pad=0.05)\n",
    "cbar = fig.colorbar(im11, cax=cax, orientation='vertical')\n",
    "cbar.ax.tick_params(labelsize=ff_labels)\n",
    "\n",
    "\n",
    "\n",
    "im12 = ax[1,2].imshow(rSigma_array_brute*(curved_pixel/curved_magnification), origin='lower', cmap='magma_r', vmin=vmin_sigma, vmax=vmax_sigma)# , vmin=min_brute_not_r, vmax=max_brute_not_r\n",
    "ax[1,2].set_title('F', fontsize=ff_letters, loc='left', fontweight='bold')\n",
    "\n",
    "if isFlat==False:\n",
    "    circ_chamber = patches.Circle((XX/2, YY/2), curved_R_chamber, alpha=0.7, lw=2.0,\n",
    "                                  edgecolor='limegreen', facecolor='None')\n",
    "    ax[1,2].add_patch(circ_chamber)\n",
    "    ## horizontal flat sensor\n",
    "    square_photonfocus = patches.Rectangle((XX/2-flat_size_curved_pix/2, YY/2-flat_height_curved_pix/2),\n",
    "                                           flat_size_curved_pix, flat_height_curved_pix, alpha=0.7, lw=2.0, \n",
    "                                           edgecolor='limegreen', facecolor='None')\n",
    "    ax[1,2].add_patch(square_photonfocus)\n",
    "\n",
    "ax[1,2].set_xticks(Xticks_loc)\n",
    "ax[1,2].set_xticklabels(Xticks_val, fontsize=ff_labels)\n",
    "ax[1,2].set_yticks(Yticks_loc)\n",
    "ax[1,2].set_yticklabels(Yticks_val, fontsize=ff_labels)\n",
    "\n",
    "ax[1,2].set_xlabel('X position [mm]', fontsize=ff_title)\n",
    "# ax[1,2].set_ylabel('Y position [mm]', fontsize=ff_title)\n",
    "\n",
    "divider = make_axes_locatable(ax[1,2])\n",
    "cax = divider.append_axes('right', size='5%', pad=0.05)\n",
    "cbar = fig.colorbar(im12, cax=cax, orientation='vertical')\n",
    "cbar.ax.tick_params(labelsize=ff_labels)\n",
    "\n",
    "plt.tight_layout()\n",
    "# plt.savefig(saving_path+Name0_curved+'_AllFigures_LessLabels.png', transparent=True)\n",
    "plt.show()\n",
    "# plt.close()\n",
    "\n",
    "## ******************************************************************************************\n"
   ]
  },
  {
   "cell_type": "code",
   "execution_count": null,
   "id": "eligible-emerald",
   "metadata": {},
   "outputs": [],
   "source": []
  },
  {
   "cell_type": "code",
   "execution_count": 649,
   "id": "religious-disaster",
   "metadata": {},
   "outputs": [
    {
     "name": "stdout",
     "output_type": "stream",
     "text": [
      "greyscale_min=0.0005\n"
     ]
    },
    {
     "data": {
      "application/vnd.jupyter.widget-view+json": {
       "model_id": "f63b4f0f5002407381412c8dd7e964de",
       "version_major": 2,
       "version_minor": 0
      },
      "text/plain": [
       "Canvas(toolbar=Toolbar(toolitems=[('Home', 'Reset original view', 'home', 'home'), ('Back', 'Back to previous …"
      ]
     },
     "metadata": {},
     "output_type": "display_data"
    }
   ],
   "source": [
    "\"\"\"\n",
    "\n",
    "\n",
    "\n",
    "Min and Max greyscale - rolling sobel\n",
    "\n",
    "\n",
    "\"\"\"\n",
    "\n",
    "print(f'greyscale_min={greyscale_min}')\n",
    "plt.close()\n",
    "\n",
    "fig, ax = plt.subplots(2, 1, figsize=(7,10))\n",
    "\n",
    "im0 = ax[0].imshow(rGmin_array, origin='lower', cmap='gray')\n",
    "\n",
    "divider = make_axes_locatable(ax[0])\n",
    "cax = divider.append_axes('right', size='5%', pad=0.05)\n",
    "fig.colorbar(im0, cax=cax, orientation='vertical')\n",
    "\n",
    "im1 = ax[1].imshow(rGmax_array, origin='lower', cmap='gray')\n",
    "\n",
    "divider = make_axes_locatable(ax[1])\n",
    "cax = divider.append_axes('right', size='5%', pad=0.05)\n",
    "fig.colorbar(im1, cax=cax, orientation='vertical')\n",
    "\n",
    "if isFlat==False:\n",
    "    circ_chamber = patches.Circle((XX/2, YY/2), curved_R_chamber, alpha=0.7, lw=2.0,\n",
    "                                  edgecolor='indianred', facecolor='None')\n",
    "    square_photonfocus = patches.Rectangle((XX/2-flat_size_curved_pix/2, YY/2-flat_height_curved_pix/2),\n",
    "                                           flat_size_curved_pix, flat_height_curved_pix, alpha=0.7, lw=2.0, \n",
    "                                           edgecolor='limegreen', facecolor='None')\n",
    "    ax[0].add_patch(circ_chamber)\n",
    "    ax[0].add_patch(square_photonfocus)\n",
    "    circ_chamber = patches.Circle((XX/2, YY/2), curved_R_chamber, alpha=0.7, lw=2.0,\n",
    "                                  edgecolor='indianred', facecolor='None')\n",
    "    #     ## vertical flat sensor\n",
    "#     square_photonfocus = patches.Rectangle((XX/2-flat_height_curved_pix/2, YY/2-flat_size_curved_pix/2),\n",
    "#                                            flat_height_curved_pix, flat_size_curved_pix, alpha=0.7, lw=2.0, \n",
    "#                                            edgecolor='limegreen', facecolor='None')\n",
    "    ## horizontal flat sensor\n",
    "    square_photonfocus = patches.Rectangle((XX/2-flat_size_curved_pix/2, YY/2-flat_height_curved_pix/2),\n",
    "                                           flat_size_curved_pix, flat_height_curved_pix, alpha=0.7, lw=2.0, \n",
    "                                           edgecolor='limegreen', facecolor='None')\n",
    "    ax[1].add_patch(circ_chamber)\n",
    "    ax[1].add_patch(square_photonfocus)\n",
    "\n",
    "\n",
    "\n",
    "ax[0].set_title('Min value')\n",
    "ax[1].set_title('Max value')\n",
    "plt.tight_layout()\n",
    "plt.savefig(saving_path+Name0_curved+'_Rolling_Gmin'+str(greyscale_min)+'_Gmax'+str(greyscale_max)+'.png', transparent=True)\n",
    "\n",
    "plt.show()\n"
   ]
  },
  {
   "cell_type": "code",
   "execution_count": 650,
   "id": "olive-sherman",
   "metadata": {},
   "outputs": [
    {
     "data": {
      "application/vnd.jupyter.widget-view+json": {
       "model_id": "63f97f32692443f28bcce9135e53b4bb",
       "version_major": 2,
       "version_minor": 0
      },
      "text/plain": [
       "Canvas(toolbar=Toolbar(toolitems=[('Home', 'Reset original view', 'home', 'home'), ('Back', 'Back to previous …"
      ]
     },
     "metadata": {},
     "output_type": "display_data"
    }
   ],
   "source": [
    "\"\"\"\n",
    "\n",
    "Standard deviation/cell\n",
    "\n",
    "\"\"\"\n",
    "\n",
    "fig = plt.figure(figsize=(9,7))\n",
    "ax = fig.add_subplot(1, 1, 1)\n",
    "\n",
    "im = ax.imshow(rstd, origin='lower', cmap='viridis')\n",
    "\n",
    "if isFlat==False:\n",
    "    circ_chamber = patches.Circle((XX/2, YY/2), curved_R_chamber, alpha=0.7, lw=2.0,\n",
    "                                  edgecolor='indianred', facecolor='None')\n",
    "    ax.add_patch(circ_chamber)\n",
    "    #     ## vertical flat sensor\n",
    "#     square_photonfocus = patches.Rectangle((XX/2-flat_height_curved_pix/2, YY/2-flat_size_curved_pix/2),\n",
    "#                                            flat_height_curved_pix, flat_size_curved_pix, alpha=0.7, lw=2.0, \n",
    "#                                            edgecolor='limegreen', facecolor='None')\n",
    "    ## horizontal flat sensor\n",
    "    square_photonfocus = patches.Rectangle((XX/2-flat_size_curved_pix/2, YY/2-flat_height_curved_pix/2),\n",
    "                                           flat_size_curved_pix, flat_height_curved_pix, alpha=0.7, lw=2.0, \n",
    "                                           edgecolor='limegreen', facecolor='None')\n",
    "    ax.add_patch(square_photonfocus)\n",
    "\n",
    "Nticks = 6\n",
    "stepx = int(np.round(curved_width/(Nticks),0))\n",
    "Xlist = np.linspace(0,curved_width, curved_width)\n",
    "Xlist_mm = [i*curved_pixel*10**(-3) for i in Xlist] #- (curved_width*curved_pixel*10**(-3))/2\n",
    "Xlist_mm = Xlist_mm-max(Xlist_mm)/2 #max(Xlist_mm)/2+0.01\n",
    "Xticks_loc = [i*1.0/Nticks*curved_width for i in range(0,Nticks)]\n",
    "Xticks_loc.append(curved_width)\n",
    "Xticks_val = [np.round(Xlist_mm[i*stepx],1) for i in range(0,Nticks)]\n",
    "Xticks_val.append(np.round(Xlist_mm[-1],1))\n",
    "\n",
    "stepy = int(np.round(curved_height/(Nticks),0))\n",
    "Ylist = np.linspace(0,curved_height, curved_height)\n",
    "Ylist_mm = [i*curved_pixel*10**(-3) for i in Ylist]\n",
    "Ylist_mm = Ylist_mm-(max(Ylist_mm)/2)\n",
    "Yticks_loc = [i*1.0/Nticks*curved_height for i in range(0,Nticks)]\n",
    "Yticks_loc.append(curved_height)\n",
    "Yticks_val = [np.round(Ylist_mm[i*stepy],1) for i in range(0,Nticks)]\n",
    "Yticks_val.append(np.round(Ylist_mm[-1],1))\n",
    "\n",
    "ax.set_xticks(Xticks_loc)\n",
    "ax.set_xticklabels(Xticks_val, fontsize=14)\n",
    "ax.set_yticks(Yticks_loc)\n",
    "ax.set_yticklabels(Yticks_val, fontsize=14)\n",
    "\n",
    "ax.set_xlabel('X position [mm]', fontsize=16)\n",
    "ax.set_ylabel('Y position [mm]', fontsize=16)\n",
    "\n",
    "divider = make_axes_locatable(ax)\n",
    "cax = divider.append_axes('right', size='5%', pad=0.05)\n",
    "cbar = fig.colorbar(im, cax=cax, orientation='vertical')\n",
    "cbar.ax.tick_params(labelsize=14)\n",
    "\n",
    "plt.tight_layout()\n",
    "# plt.savefig(saving_path+Name0_curved+'_r'+str(shiftN)+'_std.png', transparent=True)\n",
    "\n",
    "plt.show()\n",
    "# plt.close()\n"
   ]
  },
  {
   "cell_type": "code",
   "execution_count": 651,
   "id": "external-turner",
   "metadata": {},
   "outputs": [
    {
     "data": {
      "application/vnd.jupyter.widget-view+json": {
       "model_id": "15039ed7b6ba461c9388a5ea0f941d71",
       "version_major": 2,
       "version_minor": 0
      },
      "text/plain": [
       "Canvas(toolbar=Toolbar(toolitems=[('Home', 'Reset original view', 'home', 'home'), ('Back', 'Back to previous …"
      ]
     },
     "metadata": {},
     "output_type": "display_data"
    },
    {
     "name": "stdout",
     "output_type": "stream",
     "text": [
      "0.0005\n",
      "52.8125\n"
     ]
    }
   ],
   "source": [
    "'''\n",
    "\n",
    "\n",
    "Min and max values of greyscale\n",
    "\n",
    "\n",
    "'''\n",
    "\n",
    "plt.close()\n",
    "\n",
    "fig, ax = plt.subplots(2, 1, figsize=(7,10))\n",
    "\n",
    "im0 = ax[0].imshow(rGmin_array, origin='lower', cmap='gray')\n",
    "\n",
    "divider = make_axes_locatable(ax[0])\n",
    "cax = divider.append_axes('right', size='5%', pad=0.05)\n",
    "fig.colorbar(im0, cax=cax, orientation='vertical')\n",
    "\n",
    "im1 = ax[1].imshow(rGmax_array, origin='lower', cmap='gray')\n",
    "\n",
    "divider = make_axes_locatable(ax[1])\n",
    "cax = divider.append_axes('right', size='5%', pad=0.05)\n",
    "fig.colorbar(im1, cax=cax, orientation='vertical')\n",
    "\n",
    "if isFlat==False:\n",
    "    circ_chamber = patches.Circle((XX/2, YY/2), curved_R_chamber, alpha=0.7, lw=2.0,\n",
    "                                  edgecolor='indianred', facecolor='None')\n",
    "    square_photonfocus = patches.Rectangle((XX/2-flat_height_curved_pix/2, YY/2-flat_size_curved_pix/2),\n",
    "                                           flat_height_curved_pix, flat_size_curved_pix, alpha=0.7, lw=2.0, \n",
    "                                           edgecolor='black', facecolor='None')\n",
    "    ax[0].add_patch(circ_chamber)\n",
    "    ax[0].add_patch(square_photonfocus)\n",
    "    circ_chamber = patches.Circle((XX/2, YY/2), curved_R_chamber, alpha=0.7, lw=2.0,\n",
    "                                  edgecolor='indianred', facecolor='None')\n",
    "    #     ## vertical flat sensor\n",
    "#     square_photonfocus = patches.Rectangle((XX/2-flat_height_curved_pix/2, YY/2-flat_size_curved_pix/2),\n",
    "#                                            flat_height_curved_pix, flat_size_curved_pix, alpha=0.7, lw=2.0, \n",
    "#                                            edgecolor='limegreen', facecolor='None')\n",
    "    ## horizontal flat sensor\n",
    "    square_photonfocus = patches.Rectangle((XX/2-flat_size_curved_pix/2, YY/2-flat_height_curved_pix/2),\n",
    "                                           flat_size_curved_pix, flat_height_curved_pix, alpha=0.7, lw=2.0, \n",
    "                                           edgecolor='limegreen', facecolor='None')\n",
    "    ax[1].add_patch(circ_chamber)\n",
    "    ax[1].add_patch(square_photonfocus)\n",
    "\n",
    "\n",
    "\n",
    "ax[0].set_title('Min value')\n",
    "ax[1].set_title('Max value')\n",
    "plt.tight_layout()\n",
    "# plt.savefig(saving_path+Name0_curved+'_Gmin_k'+str(greyscale_min)+'_'+str(greyscale_max)+'.png', transparent=True)\n",
    "\n",
    "plt.show()\n",
    "\n",
    "\n",
    "print(greyscale_min)\n",
    "print(greyscale_min*cell_x*cell_y)"
   ]
  },
  {
   "cell_type": "code",
   "execution_count": 652,
   "id": "legislative-showcase",
   "metadata": {},
   "outputs": [
    {
     "data": {
      "application/vnd.jupyter.widget-view+json": {
       "model_id": "3cf805db3298437e83457eabb139c3cf",
       "version_major": 2,
       "version_minor": 0
      },
      "text/plain": [
       "Canvas(toolbar=Toolbar(toolitems=[('Home', 'Reset original view', 'home', 'home'), ('Back', 'Back to previous …"
      ]
     },
     "metadata": {},
     "output_type": "display_data"
    },
    {
     "data": {
      "application/vnd.jupyter.widget-view+json": {
       "model_id": "918f1f48525843beb3a72a446b5da1f3",
       "version_major": 2,
       "version_minor": 0
      },
      "text/plain": [
       "Canvas(toolbar=Toolbar(toolitems=[('Home', 'Reset original view', 'home', 'home'), ('Back', 'Back to previous …"
      ]
     },
     "metadata": {},
     "output_type": "display_data"
    }
   ],
   "source": [
    "## Plot results Rolling sobel\n",
    "\n",
    "## *********************************************************************************************\n",
    "##\n",
    "##    Max Sobel\n",
    "\n",
    "fig = plt.figure(figsize=(9,7))\n",
    "ax = fig.add_subplot(1, 1, 1)\n",
    "\n",
    "im = ax.imshow(rsobelMax_array, origin='lower', cmap='jet')\n",
    "\n",
    "if isFlat==False:\n",
    "    circ_chamber = patches.Circle((XX/2, YY/2), curved_R_chamber, alpha=0.7, lw=2.0,\n",
    "                                  edgecolor='indianred', facecolor='None')\n",
    "    ax.add_patch(circ_chamber)\n",
    "    #     ## vertical flat sensor\n",
    "#     square_photonfocus = patches.Rectangle((XX/2-flat_height_curved_pix/2, YY/2-flat_size_curved_pix/2),\n",
    "#                                            flat_height_curved_pix, flat_size_curved_pix, alpha=0.7, lw=2.0, \n",
    "#                                            edgecolor='limegreen', facecolor='None')\n",
    "    ## horizontal flat sensor\n",
    "    square_photonfocus = patches.Rectangle((XX/2-flat_size_curved_pix/2, YY/2-flat_height_curved_pix/2),\n",
    "                                           flat_size_curved_pix, flat_height_curved_pix, alpha=0.7, lw=2.0, \n",
    "                                           edgecolor='limegreen', facecolor='None')\n",
    "    ax.add_patch(square_photonfocus)\n",
    "\n",
    "Nticks = 6\n",
    "stepx = int(np.round(curved_width/(Nticks),0))\n",
    "Xlist = np.linspace(0,curved_width, curved_width)\n",
    "Xlist_mm = [i*curved_pixel*10**(-3) for i in Xlist] #- (curved_width*curved_pixel*10**(-3))/2\n",
    "Xlist_mm = Xlist_mm-max(Xlist_mm)/2 #max(Xlist_mm)/2+0.01\n",
    "Xticks_loc = [i*1.0/Nticks*curved_width for i in range(0,Nticks)]\n",
    "Xticks_loc.append(curved_width)\n",
    "Xticks_val = [np.round(Xlist_mm[i*stepx],1) for i in range(0,Nticks)]\n",
    "Xticks_val.append(np.round(Xlist_mm[-1],1))\n",
    "\n",
    "stepy = int(np.round(curved_height/(Nticks),0))\n",
    "Ylist = np.linspace(0,curved_height, curved_height)\n",
    "Ylist_mm = [i*curved_pixel*10**(-3) for i in Ylist]\n",
    "Ylist_mm = Ylist_mm-(max(Ylist_mm)/2)\n",
    "Yticks_loc = [i*1.0/Nticks*curved_height for i in range(0,Nticks)]\n",
    "Yticks_loc.append(curved_height)\n",
    "Yticks_val = [np.round(Ylist_mm[i*stepy],1) for i in range(0,Nticks)]\n",
    "Yticks_val.append(np.round(Ylist_mm[-1],1))\n",
    "\n",
    "ax.set_xticks(Xticks_loc)\n",
    "ax.set_xticklabels(Xticks_val, fontsize=14)\n",
    "ax.set_yticks(Yticks_loc)\n",
    "ax.set_yticklabels(Yticks_val, fontsize=14)\n",
    "\n",
    "ax.set_xlabel('X position [mm]', fontsize=16)\n",
    "ax.set_ylabel('Y position [mm]', fontsize=16)\n",
    "\n",
    "divider = make_axes_locatable(ax)\n",
    "cax = divider.append_axes('right', size='5%', pad=0.05)\n",
    "cbar = fig.colorbar(im, cax=cax, orientation='vertical')\n",
    "cbar.ax.tick_params(labelsize=14)\n",
    "\n",
    "plt.tight_layout()\n",
    "plt.savefig(saving_path+Name0_curved+'_r'+str(shiftN)+'_maxSobel_k'+str(curved_sobel_k)+'_mm.png', transparent=True)\n",
    "\n",
    "# plt.show()\n",
    "plt.close()\n",
    "\n",
    "\n",
    "## *********************************************************************************************\n",
    "##\n",
    "##    Greyscale\n",
    "\n",
    "\n",
    "fig = plt.figure(figsize=(9,7))\n",
    "ax = fig.add_subplot(1, 1, 1)\n",
    "\n",
    "im = ax.imshow(rGreyscale_array, origin='lower', cmap='gray') #,vmin=0.0, vmax=1.0, vmin=0.0, vmax=0.35\n",
    "\n",
    "\n",
    "if isFlat==False:\n",
    "    circ_chamber = patches.Circle((XX/2, YY/2), curved_R_chamber, alpha=0.7, lw=2.0,\n",
    "                                  edgecolor='indianred', facecolor='None')\n",
    "    ax.add_patch(circ_chamber)\n",
    "    #     ## vertical flat sensor\n",
    "#     square_photonfocus = patches.Rectangle((XX/2-flat_height_curved_pix/2, YY/2-flat_size_curved_pix/2),\n",
    "#                                            flat_height_curved_pix, flat_size_curved_pix, alpha=0.7, lw=2.0, \n",
    "#                                            edgecolor='limegreen', facecolor='None')\n",
    "    ## horizontal flat sensor\n",
    "    square_photonfocus = patches.Rectangle((XX/2-flat_size_curved_pix/2, YY/2-flat_height_curved_pix/2),\n",
    "                                           flat_size_curved_pix, flat_height_curved_pix, alpha=0.7, lw=2.0, \n",
    "                                           edgecolor='limegreen', facecolor='None')\n",
    "    ax.add_patch(square_photonfocus)\n",
    "\n",
    "\n",
    "Nticks = 6\n",
    "stepx = int(np.round(curved_width/(Nticks),0))\n",
    "Xlist = np.linspace(0,curved_width, curved_width)\n",
    "Xlist_mm = [i*curved_pixel*10**(-3) for i in Xlist] #- (curved_width*curved_pixel*10**(-3))/2\n",
    "Xlist_mm = Xlist_mm-max(Xlist_mm)/2 #max(Xlist_mm)/2+0.01\n",
    "Xticks_loc = [i*1.0/Nticks*curved_width for i in range(0,Nticks)]\n",
    "Xticks_loc.append(curved_width)\n",
    "Xticks_val = [np.round(Xlist_mm[i*stepx],1) for i in range(0,Nticks)]\n",
    "Xticks_val.append(np.round(Xlist_mm[-1],1))\n",
    "\n",
    "stepy = int(np.round(curved_height/(Nticks),0))\n",
    "Ylist = np.linspace(0,curved_height, curved_height)\n",
    "Ylist_mm = [i*curved_pixel*10**(-3) for i in Ylist]\n",
    "Ylist_mm = Ylist_mm-(max(Ylist_mm)/2)\n",
    "Yticks_loc = [i*1.0/Nticks*curved_height for i in range(0,Nticks)]\n",
    "Yticks_loc.append(curved_height)\n",
    "Yticks_val = [np.round(Ylist_mm[i*stepy],1) for i in range(0,Nticks)]\n",
    "Yticks_val.append(np.round(Ylist_mm[-1],1))\n",
    "\n",
    "ax.set_xticks(Xticks_loc)\n",
    "ax.set_xticklabels(Xticks_val, fontsize=14)\n",
    "ax.set_yticks(Yticks_loc)\n",
    "ax.set_yticklabels(Yticks_val, fontsize=14)\n",
    "\n",
    "ax.set_xlabel('X position [mm]', fontsize=16)\n",
    "ax.set_ylabel('Y position [mm]', fontsize=16)\n",
    "\n",
    "divider = make_axes_locatable(ax)\n",
    "cax = divider.append_axes('right', size='5%', pad=0.05)\n",
    "cbar = fig.colorbar(im, cax=cax, orientation='vertical')\n",
    "cbar.ax.tick_params(labelsize=14)\n",
    "\n",
    "plt.tight_layout()\n",
    "plt.savefig(saving_path+Name0_curved+'_r'+str(shiftN)+'_greyscale_k'+str(curved_sobel_k)+'_mm.png', transparent=True)\n",
    "\n",
    "# plt.show()\n",
    "plt.close()\n",
    "\n"
   ]
  },
  {
   "cell_type": "code",
   "execution_count": 653,
   "id": "sensitive-domain",
   "metadata": {},
   "outputs": [
    {
     "name": "stdout",
     "output_type": "stream",
     "text": [
      "6.159014557670773 um per pixel\n",
      "Brute sigma range between 10 - 70\n"
     ]
    },
    {
     "data": {
      "application/vnd.jupyter.widget-view+json": {
       "model_id": "22c0cae613ca4e04a3f34a1de5a88c72",
       "version_major": 2,
       "version_minor": 0
      },
      "text/plain": [
       "Canvas(toolbar=Toolbar(toolitems=[('Home', 'Reset original view', 'home', 'home'), ('Back', 'Back to previous …"
      ]
     },
     "metadata": {},
     "output_type": "display_data"
    }
   ],
   "source": [
    "## *********************************************************************************************\n",
    "##\n",
    "##    Sigma - brute\n",
    "##       With physical units\n",
    "##  rolling cells\n",
    "##\n",
    " \n",
    "min_brute_not_r = 10\n",
    "max_brute_not_r = 70\n",
    "\n",
    "print(f'Brute sigma range between {min_brute_not_r} - {max_brute_not_r}')\n",
    "\n",
    "\n",
    "plt.close()\n",
    "fig = plt.figure(figsize=(9,7))\n",
    "ax = fig.add_subplot(1, 1, 1)\n",
    "\n",
    "im = ax.imshow(rSigma_array_brute*(curved_pixel/curved_magnification), origin='lower', \n",
    "               cmap='magma_r', vmin=min_brute_not_r, vmax=max_brute_not_r) #, vmin=20  'inferno_r' , vmin=20, vmax=60\n",
    "\n",
    "if isFlat==False:\n",
    "    circ_chamber = patches.Circle((XX/2, YY/2), curved_R_chamber, alpha=0.7, lw=2.0,\n",
    "                                  edgecolor='limegreen', facecolor='None')\n",
    "    ax.add_patch(circ_chamber)\n",
    "    #     ## vertical flat sensor\n",
    "#     square_photonfocus = patches.Rectangle((XX/2-flat_height_curved_pix/2, YY/2-flat_size_curved_pix/2),\n",
    "#                                            flat_height_curved_pix, flat_size_curved_pix, alpha=0.7, lw=2.0, \n",
    "#                                            edgecolor='limegreen', facecolor='None')\n",
    "    ## horizontal flat sensor\n",
    "    square_photonfocus = patches.Rectangle((XX/2-flat_size_curved_pix/2, YY/2-flat_height_curved_pix/2),\n",
    "                                           flat_size_curved_pix, flat_height_curved_pix, alpha=0.7, lw=2.0, \n",
    "                                           edgecolor='limegreen', facecolor='None')\n",
    "    ax.add_patch(square_photonfocus)\n",
    "\n",
    "Nticks = 6\n",
    "stepx = int(np.round(curved_width/(Nticks),0))\n",
    "Xlist = np.linspace(0,curved_width, curved_width)\n",
    "Xlist_mm = [i*curved_pixel*10**(-3) for i in Xlist] #- (curved_width*curved_pixel*10**(-3))/2\n",
    "Xlist_mm = Xlist_mm-max(Xlist_mm)/2 #max(Xlist_mm)/2+0.01\n",
    "Xticks_loc = [i*1.0/Nticks*curved_width for i in range(0,Nticks)]\n",
    "Xticks_loc.append(curved_width)\n",
    "Xticks_val = [np.round(Xlist_mm[i*stepx],1) for i in range(0,Nticks)]\n",
    "Xticks_val.append(np.round(Xlist_mm[-1],1))\n",
    "\n",
    "stepy = int(np.round(curved_height/(Nticks),0))\n",
    "Ylist = np.linspace(0,curved_height, curved_height)\n",
    "Ylist_mm = [i*curved_pixel*10**(-3) for i in Ylist]\n",
    "Ylist_mm = Ylist_mm-(max(Ylist_mm)/2)\n",
    "Yticks_loc = [i*1.0/Nticks*curved_height for i in range(0,Nticks)]\n",
    "Yticks_loc.append(curved_height)\n",
    "Yticks_val = [np.round(Ylist_mm[i*stepy],1) for i in range(0,Nticks)]\n",
    "Yticks_val.append(np.round(Ylist_mm[-1],1))\n",
    "\n",
    "ax.set_xticks(Xticks_loc)\n",
    "ax.set_xticklabels(Xticks_val, fontsize=14)\n",
    "ax.set_yticks(Yticks_loc)\n",
    "ax.set_yticklabels(Yticks_val, fontsize=14)\n",
    "\n",
    "ax.set_xlabel('X position [mm]', fontsize=16)\n",
    "ax.set_ylabel('Y position [mm]', fontsize=16)\n",
    "\n",
    "divider = make_axes_locatable(ax)\n",
    "cax = divider.append_axes('right', size='5%', pad=0.05)\n",
    "cbar = fig.colorbar(im, cax=cax, orientation='vertical')\n",
    "cbar.ax.tick_params(labelsize=14)\n",
    "\n",
    "plt.tight_layout()\n",
    "plt.savefig(saving_path+Name0_curved+'_r'+str(shiftN)+'_UM_sigmasBrute_k'+str(curved_sobel_k)+'_mm_StandardScale.png', transparent=True)\n",
    "\n",
    "# plt.show()\n",
    "plt.close()\n"
   ]
  },
  {
   "cell_type": "code",
   "execution_count": null,
   "id": "affected-beverage",
   "metadata": {},
   "outputs": [],
   "source": [
    "## *********************************************************************************************\n",
    "##\n",
    "##    Sigma - fit\n",
    "##       With physical units\n",
    "##\n",
    "\n",
    "    \n",
    "    \n",
    "min_fit_not_r = 10\n",
    "max_fit_not_r = 70\n",
    "print(f'Fit sigma range between {min_fit_not_r} - {max_fit_not_r}')\n",
    "\n",
    "fig = plt.figure(figsize=(9,7))\n",
    "ax = fig.add_subplot(1, 1, 1)\n",
    "\n",
    "im = ax.imshow(rSigma_array_fit*(curved_pixel/curved_magnification), origin='lower', \n",
    "               cmap='magma_r', vmin=min_fit_not_r, vmax=max_fit_not_r) #, vmin=20  'inferno_r' , vmin=20, vmax=60\n",
    "\n",
    "if isFlat==False:\n",
    "    circ_chamber = patches.Circle((XX/2, YY/2), curved_R_chamber, alpha=0.7, lw=2.0,\n",
    "                                  edgecolor='limegreen', facecolor='None')\n",
    "    ax.add_patch(circ_chamber)\n",
    "    #     ## vertical flat sensor\n",
    "#     square_photonfocus = patches.Rectangle((XX/2-flat_height_curved_pix/2, YY/2-flat_size_curved_pix/2),\n",
    "#                                            flat_height_curved_pix, flat_size_curved_pix, alpha=0.7, lw=2.0, \n",
    "#                                            edgecolor='limegreen', facecolor='None')\n",
    "    ## horizontal flat sensor\n",
    "    square_photonfocus = patches.Rectangle((XX/2-flat_size_curved_pix/2, YY/2-flat_height_curved_pix/2),\n",
    "                                           flat_size_curved_pix, flat_height_curved_pix, alpha=0.7, lw=2.0, \n",
    "                                           edgecolor='limegreen', facecolor='None')\n",
    "    ax.add_patch(square_photonfocus)\n",
    "\n",
    "Nticks = 6\n",
    "stepx = int(np.round(curved_width/(Nticks),0))\n",
    "Xlist = np.linspace(0,curved_width, curved_width)\n",
    "Xlist_mm = [i*curved_pixel*10**(-3) for i in Xlist] #- (curved_width*curved_pixel*10**(-3))/2\n",
    "Xlist_mm = Xlist_mm-max(Xlist_mm)/2 #max(Xlist_mm)/2+0.01\n",
    "Xticks_loc = [i*1.0/Nticks*curved_width for i in range(0,Nticks)]\n",
    "Xticks_loc.append(curved_width)\n",
    "Xticks_val = [np.round(Xlist_mm[i*stepx],1) for i in range(0,Nticks)]\n",
    "Xticks_val.append(np.round(Xlist_mm[-1],1))\n",
    "\n",
    "stepy = int(np.round(curved_height/(Nticks),0))\n",
    "Ylist = np.linspace(0,curved_height, curved_height)\n",
    "Ylist_mm = [i*curved_pixel*10**(-3) for i in Ylist]\n",
    "Ylist_mm = Ylist_mm-(max(Ylist_mm)/2)\n",
    "Yticks_loc = [i*1.0/Nticks*curved_height for i in range(0,Nticks)]\n",
    "Yticks_loc.append(curved_height)\n",
    "Yticks_val = [np.round(Ylist_mm[i*stepy],1) for i in range(0,Nticks)]\n",
    "Yticks_val.append(np.round(Ylist_mm[-1],1))\n",
    "\n",
    "ax.set_xticks(Xticks_loc)\n",
    "ax.set_xticklabels(Xticks_val, fontsize=14)\n",
    "ax.set_yticks(Yticks_loc)\n",
    "ax.set_yticklabels(Yticks_val, fontsize=14)\n",
    "\n",
    "ax.set_xlabel('X position [mm]', fontsize=16)\n",
    "ax.set_ylabel('Y position [mm]', fontsize=16)\n",
    "\n",
    "divider = make_axes_locatable(ax)\n",
    "cax = divider.append_axes('right', size='5%', pad=0.05)\n",
    "cbar = fig.colorbar(im, cax=cax, orientation='vertical')\n",
    "cbar.ax.tick_params(labelsize=14)\n",
    "\n",
    "plt.tight_layout()\n",
    "plt.savefig(saving_path+Name0_curved+'_r'+str(shiftN)+'_UM_sigmasFit_k'+str(curved_sobel_k)+'_StandardScale.png', transparent=True)\n",
    "\n",
    "# plt.show()\n",
    "plt.close()\n"
   ]
  },
  {
   "cell_type": "code",
   "execution_count": null,
   "id": "varying-excellence",
   "metadata": {},
   "outputs": [],
   "source": []
  }
 ],
 "metadata": {
  "kernelspec": {
   "display_name": "Python 3",
   "language": "python",
   "name": "python3"
  },
  "language_info": {
   "codemirror_mode": {
    "name": "ipython",
    "version": 3
   },
   "file_extension": ".py",
   "mimetype": "text/x-python",
   "name": "python",
   "nbconvert_exporter": "python",
   "pygments_lexer": "ipython3",
   "version": "3.8.3"
  }
 },
 "nbformat": 4,
 "nbformat_minor": 5
}
